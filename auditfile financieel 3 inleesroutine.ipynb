{
 "cells": [
  {
   "cell_type": "markdown",
   "metadata": {},
   "source": [
    "<img src=\"https://static.wixstatic.com/media/a9ca5e_825bd4d39e7d468faf735b801fa3dea4~mv2.png/v1/fill/w_1458,h_246,al_c,usm_0.66_1.00_0.01/a9ca5e_825bd4d39e7d468faf735b801fa3dea4~mv2.png\" width=\"200\">"
   ]
  },
  {
   "cell_type": "markdown",
   "metadata": {
    "slideshow": {
     "slide_type": "slide"
    }
   },
   "source": [
    "\n",
    " # __Notebook voor het importeren van 3.* auditfiles__\n",
    "\n",
    " \n",
    " __Auteur:__ Melvin Folkers (Yellow Stacks B.V.)<br>\n",
    " __Versie:__ 06 augustus 2018<br>\n",
    " __Doel:__ Het importeren van auditfiles 3.* <br>\n",
    " ***\n",
    "\n",
    "__overzicht van paragrafen in deze notebook__\n",
    " > 1. Parameters instellen<br>  \n",
    " > 2. functies<br>\n",
    " > 3. Auditfile tabellen importeren<br>\n",
    " > 4. Auditfile preppen<br>\n",
    " > 5. Auditfile exporteren<br>\n",
    " "
   ]
  },
  {
   "cell_type": "markdown",
   "metadata": {},
   "source": [
    "__introductie__\n",
    "\n",
    "Het doel van deze notebook is om auditfiles van het type 3 om te zetten in een dataset van grootboekmutaties.<br> \n",
    "De grootboekmutaties worden voorzien van informatie van de relaties, btwcodes, grootboek,dagboek, -en bedrijfsinformatie. <br>\n",
    "In het script worden er ook validatiechecks gedaan op de ingelezen regels. <br>\n",
    "De mutaties worden vervolgens geexporteerd naar een excelbestand.\n",
    "\n",
    "Het script is gemaakt om __1 auditfile in te lezen__, ter demonstratie van wat python kan betekenen voor collega's werkzaam in de financiele branche (te denken aan: audit / tax / controlling).<br>\n",
    "Dit soort scripts kunnen doorontwikkeld worden opdat meer auditfiles tergelijk kunnen worden ingelezen.<br>\n",
    "Zorg ervoor dat wanneer je het script wil draaien, dat je de auditfile in dezelfde map zet als deze notebook.\n",
    "\n",
    "De installatie van jupyter notebook staat goed gedocumenteerd op de website van jupyter: http://jupyter.org/install\n",
    "\n"
   ]
  },
  {
   "cell_type": "markdown",
   "metadata": {
    "slideshow": {
     "slide_type": "slide"
    }
   },
   "source": [
    "\n",
    "# 1. Parameters instellen"
   ]
  },
  {
   "cell_type": "markdown",
   "metadata": {},
   "source": [
    "als je voor de eerste keer jupyter notebook gebruikt moeten er nog wat bibliotheken (packages) geinstalleerd worden. Door onderstaande code te runnen met de Install parameter op <font color=\"green\">__True__</font>.<br>\n",
    "Wanneer je dat hebt gedaan kan je de waarde weer op <font color=\"green\">__False__</font> zetten, omdat je dit maar 1 keer hoeft te doen."
   ]
  },
  {
   "cell_type": "markdown",
   "metadata": {},
   "source": [
    "### 1.0 installeren van de benodigde bibliotheken"
   ]
  },
  {
   "cell_type": "code",
   "execution_count": 3,
   "metadata": {},
   "outputs": [],
   "source": [
    "install = False\n",
    "\n",
    "if install == False : None\n",
    "else : \n",
    "    !pip install numpy\n",
    "    !pip install matplotlib\n",
    "    !pip install pandas\n",
    "    !pip install xml.etree.ElementTree\n",
    "    !pip install matplotlib"
   ]
  },
  {
   "cell_type": "markdown",
   "metadata": {},
   "source": [
    "### 1.1 Notebook settings\n",
    "__instellingen voor gebruik van deze jupyter notebook__<br>\n",
    "deze instellingen zorgen ervoor dat de notebook het hele scherm vult en dat er (meerdere) grafieken getoond kunnen worden."
   ]
  },
  {
   "cell_type": "code",
   "execution_count": 4,
   "metadata": {
    "slideshow": {
     "slide_type": "subslide"
    }
   },
   "outputs": [
    {
     "data": {
      "text/html": [
       "<style>.container { width:100% !important; }</style>"
      ],
      "text/plain": [
       "<IPython.core.display.HTML object>"
      ]
     },
     "metadata": {},
     "output_type": "display_data"
    }
   ],
   "source": [
    "from IPython.core.display import display, HTML\n",
    "display(HTML(\"<style>.container { width:100% !important; }</style>\")) # maakt de jupyter notebook cellen 100% breed\n",
    "\n",
    "%matplotlib inline \n",
    "# voor het plotten van grafieken\n",
    "\n",
    "from IPython.core.interactiveshell import InteractiveShell\n",
    "InteractiveShell.ast_node_interactivity = \"all\" # om meerdere grafieken/tabellen in 1 cel te kunnen laten zien."
   ]
  },
  {
   "cell_type": "markdown",
   "metadata": {
    "slideshow": {
     "slide_type": "subslide"
    }
   },
   "source": [
    "### 1.2 Importeren van bibliotheken\n",
    "De bibliotheken die nodig zijn voor het script zijn in de eerste stap geinstalleerd. Als je dit nog niet gedaan hebt zal er hier een error komen die aangeeft dat de bibliotheek ontbreekt."
   ]
  },
  {
   "cell_type": "code",
   "execution_count": 5,
   "metadata": {
    "slideshow": {
     "slide_type": "subslide"
    }
   },
   "outputs": [],
   "source": [
    "# importeren van de bibliotheken\n",
    "import sys, os\n",
    "import pandas as pd\n",
    "import numpy as np\n",
    "import xml.etree.ElementTree as ET\n",
    "\n",
    "from datetime import datetime"
   ]
  },
  {
   "cell_type": "markdown",
   "metadata": {},
   "source": [
    "***\n",
    "# 2. Functies\n",
    "__functies voor importeren van diverse lagen in de auditfile__ <br><br>\n",
    "De functies die hieronder zijn geschreven zijn gemaakt om de meerder lagen van de auditfile door te lezen.<br>\n",
    "Functies moeten altijd bovenaan het script worden gezet, omdat je deze later gaat aanroepen.<br>\n",
    "Het echte script begint dus pas in __hoofdstuk 3__. let op dat je het onderstaande script runt tot hoofdstuk 3."
   ]
  },
  {
   "cell_type": "markdown",
   "metadata": {
    "slideshow": {
     "slide_type": "slide"
    }
   },
   "source": [
    "### 2.1 Functies voor het parsen van data"
   ]
  },
  {
   "cell_type": "code",
   "execution_count": 6,
   "metadata": {
    "slideshow": {
     "slide_type": "fragment"
    }
   },
   "outputs": [],
   "source": [
    "def parse_info(root): # Bedoeld om alle informatie uit de root van de auditfile te halen. Er moet ook een manier zijn om in dit 1 functie te kunnen schrijven, maar voor nu werkt dit ook.\n",
    "   \n",
    "    recordcontent = dict()\n",
    "    \n",
    "    for child in root:\n",
    "        columnname = child.tag.replace(ns,'')\n",
    "        columnvalue = child.text\n",
    "        \n",
    "        if len(child) == 0:\n",
    "            recordcontent[columnname] = columnvalue     \n",
    "            \n",
    "        else: continue\n",
    "            \n",
    "    return recordcontent  "
   ]
  },
  {
   "cell_type": "code",
   "execution_count": 7,
   "metadata": {
    "slideshow": {
     "slide_type": "fragment"
    }
   },
   "outputs": [],
   "source": [
    "def stamtabellen(root) :    # bedoeld om subtabellen als customer supplier uit te lezen.\n",
    "    \n",
    "    currentrow = 0\n",
    "    records = dict()\n",
    "\n",
    "    for child in root:\n",
    "\n",
    "        module = child.tag.replace(ns,'')\n",
    "        recordcontent = dict()\n",
    "\n",
    "        for subchild in child:\n",
    "\n",
    "            if len(subchild) != 0:\n",
    "                for subsubchild in subchild:\n",
    "                    columnvalue = subsubchild.text\n",
    "                    columnname = subsubchild.tag.replace(ns,'')\n",
    "                    recordcontent[columnname] = columnvalue\n",
    "\n",
    "                    if len(subsubchild) != 0: print('let op! nog een sublaag gevonden')\n",
    "            else:\n",
    "                columnvalue =subchild.text\n",
    "                columnname = subchild.tag.replace(ns,'')\n",
    "                recordcontent[columnname] = columnvalue\n",
    "\n",
    "        records[currentrow] = recordcontent\n",
    "        currentrow +=1\n",
    "\n",
    "    df = pd.DataFrame(records).transpose()\n",
    "    return df"
   ]
  },
  {
   "cell_type": "code",
   "execution_count": 8,
   "metadata": {
    "slideshow": {
     "slide_type": "fragment"
    }
   },
   "outputs": [],
   "source": [
    "def tags_in_module(modules): # functie om de tags van de xmllaag uit te lezen. Dit zijn soms namen van submodules maar kunnen ook kolomnamen zijn.\n",
    "    tag = dict()\n",
    "    \n",
    "    for submodule in modules:\n",
    "        tagname = submodule.tag.replace(ns,'')\n",
    "        tag[tagname] = tag.get(tagname, 0) + 1\n",
    "    return tag"
   ]
  },
  {
   "cell_type": "markdown",
   "metadata": {
    "slideshow": {
     "slide_type": "slide"
    }
   },
   "source": [
    "### 2.2 Functies voor het converteren van data"
   ]
  },
  {
   "cell_type": "code",
   "execution_count": 9,
   "metadata": {},
   "outputs": [],
   "source": [
    "def accounttype(dataframe): # functie voor het bepalen van categorie Balans of Winst & Verlies\n",
    "\n",
    "    conditions = [\n",
    "        (dataframe['accTp'] == 'P'),\n",
    "        (dataframe['accTp'] == 'B')]\n",
    "\n",
    "    choices = ['Winst & verlies','Balans']\n",
    "\n",
    "    dataframe['accounttype'] = np.select(conditions, choices, default= 'onbekende balanstype' + dataframe['accTp'] )\n"
   ]
  },
  {
   "cell_type": "code",
   "execution_count": 10,
   "metadata": {
    "slideshow": {
     "slide_type": "fragment"
    }
   },
   "outputs": [],
   "source": [
    "def journaltype(dataframe): # functie voor het bepalen van de dagboektypes.\n",
    "\n",
    "    conditions = [\n",
    "        (dataframe['jrnTp'] == 'Z'),\n",
    "        (dataframe['jrnTp'] == 'B'),\n",
    "        (dataframe['jrnTp'] == 'P'),\n",
    "        (dataframe['jrnTp'] == 'O'),\n",
    "        (dataframe['jrnTp'] == 'C'),\n",
    "        (dataframe['jrnTp'] == 'M'),\n",
    "        (dataframe['jrnTp'] == 'Y'),\n",
    "        (dataframe['jrnTp'] == 'S')]\n",
    "\n",
    "    choices = ['memoriaal', 'bankboek' , 'inkoopboek' , 'open/sluit balans', 'kasboek', 'memoriaal', 'salaris', 'verkoopboek']\n",
    "\n",
    "    dataframe['journaltype'] = np.select(conditions, choices, default= 'onbekend dagboek' )"
   ]
  },
  {
   "cell_type": "code",
   "execution_count": 11,
   "metadata": {
    "slideshow": {
     "slide_type": "fragment"
    }
   },
   "outputs": [],
   "source": [
    "def vat_amount(dataframe): # functie die de waarde van kolom vat_amount in het goede formaat staat. de kolom wordt hernoemt naar vat_amount\n",
    "\n",
    "    vat_amount_raw = dataframe['vatAmnt'].astype(float)\n",
    "    \n",
    "    conditions = [\n",
    "        (dataframe['vatAmntTp'] == 'C'),\n",
    "        (dataframe['vatAmntTp'] == 'D')]\n",
    "\n",
    "    choices = [-1,1]\n",
    "\n",
    "    dataframe['vat_amount'] = np.select(conditions, choices, default= 1 ) * vat_amount_raw\n"
   ]
  },
  {
   "cell_type": "code",
   "execution_count": 12,
   "metadata": {
    "slideshow": {
     "slide_type": "fragment"
    }
   },
   "outputs": [],
   "source": [
    "def amount(dataframe): # functie die de waarde van kolom amount in het goede formaat staat. de kolom wordt hernoemt naar amount\n",
    "\n",
    "\n",
    "\n",
    "    amount_raw = dataframe['amnt'].astype(float)\n",
    "    \n",
    "    conditions = [\n",
    "        (dataframe['amntTp'] == 'C'),\n",
    "        (dataframe['amntTp'] == 'D')]\n",
    "\n",
    "    choices = [-1,1]\n",
    "\n",
    "    dataframe['amount'] = np.select(conditions, choices, default= 1 ) * amount_raw\n"
   ]
  },
  {
   "cell_type": "markdown",
   "metadata": {
    "slideshow": {
     "slide_type": "slide"
    }
   },
   "source": [
    "***\n",
    "# 3. Importeren van de auditfile\n",
    "_starten met importeren van de auditfile data_"
   ]
  },
  {
   "cell_type": "markdown",
   "metadata": {
    "slideshow": {
     "slide_type": "subslide"
    }
   },
   "source": [
    "### 3.1 lees de auditfile in met de xml parser"
   ]
  },
  {
   "cell_type": "markdown",
   "metadata": {},
   "source": [
    "__selecteren van (demo) auditfile__<br>"
   ]
  },
  {
   "cell_type": "markdown",
   "metadata": {},
   "source": [
    "Let op: <br><br>\n",
    "\n",
    "in dit geval is een voorbeeld auditfile gebruikt ten behoeve van een demo. <br>\n",
    "Mocht je het op een andere auditfile willen proberen dan kan je simpelweg voor de waarde 'file' de naam van de auditfile neerzetten.<br>\n",
    "Het is wel belangrijk dat de auditfile in dit geval op de locatie van dit de demo auditfiles staat. <br>\n",
    "Mocht het op een andere locatie staan dan kan je ook het relatieve pad invullen (bv. 'C:/file.xaf')<br>"
   ]
  },
  {
   "cell_type": "code",
   "execution_count": 13,
   "metadata": {
    "scrolled": false
   },
   "outputs": [],
   "source": [
    "file  = 'ExactOnline_V32_2016.xaf'"
   ]
  },
  {
   "cell_type": "code",
   "execution_count": 17,
   "metadata": {
    "slideshow": {
     "slide_type": "subslide"
    }
   },
   "outputs": [],
   "source": [
    "\n",
    "\n",
    "tree = ET.parse(file) # mocht je een andere map hebben dan kan je het pad hier aanpassen\n",
    "root = tree.getroot()\n",
    "namespaces = {'xsd':\"http://www.w3.org/2001/XMLSchema\", 'xsi':\"http://www.w3.org/2001/XMLSchema-instance\" }\n"
   ]
  },
  {
   "cell_type": "markdown",
   "metadata": {},
   "source": [
    "_stel namespace vast_"
   ]
  },
  {
   "cell_type": "code",
   "execution_count": 18,
   "metadata": {
    "slideshow": {
     "slide_type": "subslide"
    }
   },
   "outputs": [
    {
     "data": {
      "text/plain": [
       "{'xsd': 'http://www.w3.org/2001/XMLSchema',\n",
       " 'xsi': 'http://www.w3.org/2001/XMLSchema-instance',\n",
       " 'af': 'http://www.auditfiles.nl/XAF/3.2'}"
      ]
     },
     "execution_count": 18,
     "metadata": {},
     "output_type": "execute_result"
    }
   ],
   "source": [
    "ns_raw =  root.tag.split('{')[1].split('}')[0]\n",
    "ns = '{'+ ns_raw + '}'\n",
    "namespaces['af'] = ns_raw\n",
    "namespaces"
   ]
  },
  {
   "cell_type": "markdown",
   "metadata": {
    "slideshow": {
     "slide_type": "slide"
    }
   },
   "source": [
    "### 3.2 Maak onderscheid tussen header en company subledgers"
   ]
  },
  {
   "cell_type": "markdown",
   "metadata": {
    "slideshow": {
     "slide_type": "subslide"
    }
   },
   "source": [
    "_splitst de auditfile op in 3 blokken._\n",
    "> - header\n",
    "> - company\n",
    "> - transactions"
   ]
  },
  {
   "cell_type": "code",
   "execution_count": 19,
   "metadata": {
    "slideshow": {
     "slide_type": "subslide"
    }
   },
   "outputs": [],
   "source": [
    "header    = root.find('af:header',namespaces) # zoekt in de xml naar de tag header\n",
    "company   = root.find('af:company', namespaces) # zoekt in de xml naar de tag company\n",
    "transactions = root.find('af:company/af:transactions', namespaces) # zoekt in de xml naar de tag company/transactions (rekening houdend met de prefix van de namespaces)"
   ]
  },
  {
   "cell_type": "markdown",
   "metadata": {},
   "source": [
    "_leest de eerste laag van het xml niveau in. <br>Dit kunnen we zien als de metadata van de auditfile_"
   ]
  },
  {
   "cell_type": "code",
   "execution_count": 20,
   "metadata": {
    "slideshow": {
     "slide_type": "skip"
    }
   },
   "outputs": [
    {
     "data": {
      "text/html": [
       "<div>\n",
       "<style scoped>\n",
       "    .dataframe tbody tr th:only-of-type {\n",
       "        vertical-align: middle;\n",
       "    }\n",
       "\n",
       "    .dataframe tbody tr th {\n",
       "        vertical-align: top;\n",
       "    }\n",
       "\n",
       "    .dataframe thead th {\n",
       "        text-align: right;\n",
       "    }\n",
       "</style>\n",
       "<table border=\"1\" class=\"dataframe\">\n",
       "  <thead>\n",
       "    <tr style=\"text-align: right;\">\n",
       "      <th></th>\n",
       "      <th>curCode</th>\n",
       "      <th>dateCreated</th>\n",
       "      <th>endDate</th>\n",
       "      <th>fiscalYear</th>\n",
       "      <th>softwareDesc</th>\n",
       "      <th>startDate</th>\n",
       "      <th>companyIdent</th>\n",
       "      <th>companyName</th>\n",
       "      <th>taxRegIdent</th>\n",
       "      <th>taxRegistrationCountry</th>\n",
       "      <th>linesCount</th>\n",
       "      <th>totalCredit</th>\n",
       "      <th>totalDebit</th>\n",
       "      <th>file</th>\n",
       "    </tr>\n",
       "  </thead>\n",
       "  <tbody>\n",
       "    <tr>\n",
       "      <th>0</th>\n",
       "      <td>EUR</td>\n",
       "      <td>2017-04-20</td>\n",
       "      <td>2016-12-31</td>\n",
       "      <td>2016</td>\n",
       "      <td>Exact Online</td>\n",
       "      <td>2016-01-01</td>\n",
       "      <td>1</td>\n",
       "      <td>Toro Rosso BV</td>\n",
       "      <td>None</td>\n",
       "      <td>NL</td>\n",
       "      <td>167</td>\n",
       "      <td>999954.06</td>\n",
       "      <td>999954.06</td>\n",
       "      <td>ExactOnline_V32_2016.xaf</td>\n",
       "    </tr>\n",
       "  </tbody>\n",
       "</table>\n",
       "</div>"
      ],
      "text/plain": [
       "  curCode dateCreated     endDate fiscalYear  softwareDesc   startDate  \\\n",
       "0     EUR  2017-04-20  2016-12-31       2016  Exact Online  2016-01-01   \n",
       "\n",
       "  companyIdent    companyName taxRegIdent taxRegistrationCountry linesCount  \\\n",
       "0            1  Toro Rosso BV        None                     NL        167   \n",
       "\n",
       "  totalCredit totalDebit                      file  \n",
       "0   999954.06  999954.06  ExactOnline_V32_2016.xaf  "
      ]
     },
     "execution_count": 20,
     "metadata": {},
     "output_type": "execute_result"
    }
   ],
   "source": [
    "# zoek per laag naar de informatie die uniek is voor de auditfile.\n",
    "headerinfo = pd.DataFrame(parse_info(header), index = [0])\n",
    "companyinfo = pd.DataFrame(parse_info(company), index = [0])\n",
    "transactioninfo = pd.DataFrame(parse_info(transactions), index = [0])\n",
    "\n",
    "# plak al deze informatie over de metadata van de auditfiles in 1 dataframe. Dit past in 1 regel.\n",
    "\n",
    "af_info = pd.concat([headerinfo, companyinfo, transactioninfo], axis = 1)\n",
    "\n",
    "af_info['file'] = file\n",
    "af_info "
   ]
  },
  {
   "cell_type": "markdown",
   "metadata": {},
   "source": [
    "### 3.3 Parsen van data van de stamtabellen"
   ]
  },
  {
   "cell_type": "markdown",
   "metadata": {},
   "source": [
    "_aanmaken van de volgende subtabellen:_\n",
    "> - periods <br>\n",
    "> - customer suppliers <br>\n",
    "> - vatcodes <br>\n",
    "> - generalLedger <br>\n",
    "> - basics<br>"
   ]
  },
  {
   "cell_type": "code",
   "execution_count": 21,
   "metadata": {
    "slideshow": {
     "slide_type": "subslide"
    }
   },
   "outputs": [],
   "source": [
    "periods = stamtabellen(company.findall('af:periods/af:period',namespaces))\n",
    "custsup = stamtabellen(company.findall('af:customersSuppliers/af:customerSupplier',namespaces))\n",
    "vatcode = stamtabellen(company.findall('af:vatCodes/af:vatCode',namespaces))\n",
    "genledg  = stamtabellen(company.findall('af:generalLedger/af:ledgerAccount',namespaces))\n",
    "basics  = stamtabellen(company.findall('af:generalLedger/af:basics',namespaces))"
   ]
  },
  {
   "cell_type": "code",
   "execution_count": 22,
   "metadata": {},
   "outputs": [],
   "source": [
    "# ontdubbel vat ID's die een claim en pay account hebben. deze kunnen later voor een verdubbeling van de data leiden.\n",
    "# wel nemen we alle informatie mee door de twee tabellen te splitsen en vervolgens op vatID aan elkaar te joinen.\n",
    "\n",
    "claim = vatcode[(['vatID', 'vatDesc','vatToClaimAccID'])]\n",
    "claim = claim[pd.isnull(claim['vatToClaimAccID']) == False]\n",
    "\n",
    "pay = vatcode[(['vatID', 'vatDesc','vatToPayAccID'])]\n",
    "pay = pay[pd.isnull(pay['vatToPayAccID']) == False]\n",
    "\n",
    "vatcode = pd.merge(claim,pay, on = ['vatID', 'vatDesc'], how ='outer')"
   ]
  },
  {
   "cell_type": "code",
   "execution_count": 23,
   "metadata": {},
   "outputs": [
    {
     "data": {
      "text/html": [
       "<div>\n",
       "<style scoped>\n",
       "    .dataframe tbody tr th:only-of-type {\n",
       "        vertical-align: middle;\n",
       "    }\n",
       "\n",
       "    .dataframe tbody tr th {\n",
       "        vertical-align: top;\n",
       "    }\n",
       "\n",
       "    .dataframe thead th {\n",
       "        text-align: right;\n",
       "    }\n",
       "</style>\n",
       "<table border=\"1\" class=\"dataframe\">\n",
       "  <thead>\n",
       "    <tr style=\"text-align: right;\">\n",
       "      <th></th>\n",
       "      <th>basicDesc</th>\n",
       "      <th>basicID</th>\n",
       "      <th>basicType</th>\n",
       "    </tr>\n",
       "  </thead>\n",
       "  <tbody>\n",
       "    <tr>\n",
       "      <th>0</th>\n",
       "      <td>joris.joppe@gmail.com</td>\n",
       "      <td>1849800</td>\n",
       "      <td>30</td>\n",
       "    </tr>\n",
       "  </tbody>\n",
       "</table>\n",
       "</div>"
      ],
      "text/plain": [
       "               basicDesc  basicID basicType\n",
       "0  joris.joppe@gmail.com  1849800        30"
      ]
     },
     "execution_count": 23,
     "metadata": {},
     "output_type": "execute_result"
    },
    {
     "data": {
      "text/html": [
       "<div>\n",
       "<style scoped>\n",
       "    .dataframe tbody tr th:only-of-type {\n",
       "        vertical-align: middle;\n",
       "    }\n",
       "\n",
       "    .dataframe tbody tr th {\n",
       "        vertical-align: top;\n",
       "    }\n",
       "\n",
       "    .dataframe thead th {\n",
       "        text-align: right;\n",
       "    }\n",
       "</style>\n",
       "<table border=\"1\" class=\"dataframe\">\n",
       "  <thead>\n",
       "    <tr style=\"text-align: right;\">\n",
       "      <th></th>\n",
       "      <th>accDesc</th>\n",
       "      <th>accID</th>\n",
       "      <th>accTp</th>\n",
       "      <th>leadCode</th>\n",
       "      <th>leadDescription</th>\n",
       "      <th>leadReference</th>\n",
       "    </tr>\n",
       "  </thead>\n",
       "  <tbody>\n",
       "    <tr>\n",
       "      <th>0</th>\n",
       "      <td>Geplaatst kapitaal</td>\n",
       "      <td>0310</td>\n",
       "      <td>B</td>\n",
       "      <td>11</td>\n",
       "      <td>Materiële vaste activa</td>\n",
       "      <td>BEivGokGea</td>\n",
       "    </tr>\n",
       "    <tr>\n",
       "      <th>1</th>\n",
       "      <td>473677091</td>\n",
       "      <td>1101</td>\n",
       "      <td>B</td>\n",
       "      <td>16</td>\n",
       "      <td>Liquide middelen</td>\n",
       "      <td>BLimBanRba</td>\n",
       "    </tr>\n",
       "    <tr>\n",
       "      <th>2</th>\n",
       "      <td>Afschrijvingskosten gebouwen</td>\n",
       "      <td>5110</td>\n",
       "      <td>P</td>\n",
       "      <td>42</td>\n",
       "      <td>Afschrijvingen</td>\n",
       "      <td>WAfsAmvBeg</td>\n",
       "    </tr>\n",
       "    <tr>\n",
       "      <th>3</th>\n",
       "      <td>Resultaat verkoop activa</td>\n",
       "      <td>5300</td>\n",
       "      <td>P</td>\n",
       "      <td>42</td>\n",
       "      <td>Afschrijvingen</td>\n",
       "      <td>WAfsRvmBei</td>\n",
       "    </tr>\n",
       "    <tr>\n",
       "      <th>4</th>\n",
       "      <td>Overige bedrijfsopbrengsten</td>\n",
       "      <td>8900</td>\n",
       "      <td>P</td>\n",
       "      <td>30</td>\n",
       "      <td>Omzet</td>\n",
       "      <td>WOmzNopOlh</td>\n",
       "    </tr>\n",
       "  </tbody>\n",
       "</table>\n",
       "</div>"
      ],
      "text/plain": [
       "                        accDesc accID accTp leadCode         leadDescription  \\\n",
       "0            Geplaatst kapitaal  0310     B       11  Materiële vaste activa   \n",
       "1                     473677091  1101     B       16        Liquide middelen   \n",
       "2  Afschrijvingskosten gebouwen  5110     P       42          Afschrijvingen   \n",
       "3      Resultaat verkoop activa  5300     P       42          Afschrijvingen   \n",
       "4   Overige bedrijfsopbrengsten  8900     P       30                   Omzet   \n",
       "\n",
       "  leadReference  \n",
       "0    BEivGokGea  \n",
       "1    BLimBanRba  \n",
       "2    WAfsAmvBeg  \n",
       "3    WAfsRvmBei  \n",
       "4    WOmzNopOlh  "
      ]
     },
     "execution_count": 23,
     "metadata": {},
     "output_type": "execute_result"
    },
    {
     "data": {
      "text/html": [
       "<div>\n",
       "<style scoped>\n",
       "    .dataframe tbody tr th:only-of-type {\n",
       "        vertical-align: middle;\n",
       "    }\n",
       "\n",
       "    .dataframe tbody tr th {\n",
       "        vertical-align: top;\n",
       "    }\n",
       "\n",
       "    .dataframe thead th {\n",
       "        text-align: right;\n",
       "    }\n",
       "</style>\n",
       "<table border=\"1\" class=\"dataframe\">\n",
       "  <thead>\n",
       "    <tr style=\"text-align: right;\">\n",
       "      <th></th>\n",
       "      <th>vatID</th>\n",
       "      <th>vatDesc</th>\n",
       "      <th>vatToClaimAccID</th>\n",
       "      <th>vatToPayAccID</th>\n",
       "    </tr>\n",
       "  </thead>\n",
       "  <tbody>\n",
       "    <tr>\n",
       "      <th>0</th>\n",
       "      <td>1</td>\n",
       "      <td>BTW laag tarief, exclusief</td>\n",
       "      <td>1520</td>\n",
       "      <td>1510</td>\n",
       "    </tr>\n",
       "    <tr>\n",
       "      <th>1</th>\n",
       "      <td>10</td>\n",
       "      <td>Verwerving binnen de EU</td>\n",
       "      <td>1520</td>\n",
       "      <td>1512</td>\n",
       "    </tr>\n",
       "    <tr>\n",
       "      <th>2</th>\n",
       "      <td>11</td>\n",
       "      <td>BTW prive gebruik</td>\n",
       "      <td>1520</td>\n",
       "      <td>1513</td>\n",
       "    </tr>\n",
       "    <tr>\n",
       "      <th>3</th>\n",
       "      <td>12</td>\n",
       "      <td>BTW overige tarieven</td>\n",
       "      <td>1520</td>\n",
       "      <td>1500</td>\n",
       "    </tr>\n",
       "    <tr>\n",
       "      <th>4</th>\n",
       "      <td>2</td>\n",
       "      <td>BTW hoog tarief, exclusief</td>\n",
       "      <td>1520</td>\n",
       "      <td>1500</td>\n",
       "    </tr>\n",
       "  </tbody>\n",
       "</table>\n",
       "</div>"
      ],
      "text/plain": [
       "  vatID                     vatDesc vatToClaimAccID vatToPayAccID\n",
       "0     1  BTW laag tarief, exclusief            1520          1510\n",
       "1    10     Verwerving binnen de EU            1520          1512\n",
       "2    11           BTW prive gebruik            1520          1513\n",
       "3    12        BTW overige tarieven            1520          1500\n",
       "4     2  BTW hoog tarief, exclusief            1520          1500"
      ]
     },
     "execution_count": 23,
     "metadata": {},
     "output_type": "execute_result"
    },
    {
     "data": {
      "text/html": [
       "<div>\n",
       "<style scoped>\n",
       "    .dataframe tbody tr th:only-of-type {\n",
       "        vertical-align: middle;\n",
       "    }\n",
       "\n",
       "    .dataframe tbody tr th {\n",
       "        vertical-align: top;\n",
       "    }\n",
       "\n",
       "    .dataframe thead th {\n",
       "        text-align: right;\n",
       "    }\n",
       "</style>\n",
       "<table border=\"1\" class=\"dataframe\">\n",
       "  <thead>\n",
       "    <tr style=\"text-align: right;\">\n",
       "      <th></th>\n",
       "      <th>endDatePeriod</th>\n",
       "      <th>periodNumber</th>\n",
       "      <th>startDatePeriod</th>\n",
       "    </tr>\n",
       "  </thead>\n",
       "  <tbody>\n",
       "    <tr>\n",
       "      <th>0</th>\n",
       "      <td>2016-01-31</td>\n",
       "      <td>1</td>\n",
       "      <td>2016-01-01</td>\n",
       "    </tr>\n",
       "    <tr>\n",
       "      <th>1</th>\n",
       "      <td>2016-02-29</td>\n",
       "      <td>2</td>\n",
       "      <td>2016-02-01</td>\n",
       "    </tr>\n",
       "    <tr>\n",
       "      <th>2</th>\n",
       "      <td>2016-03-31</td>\n",
       "      <td>3</td>\n",
       "      <td>2016-03-01</td>\n",
       "    </tr>\n",
       "    <tr>\n",
       "      <th>3</th>\n",
       "      <td>2016-04-30</td>\n",
       "      <td>4</td>\n",
       "      <td>2016-04-01</td>\n",
       "    </tr>\n",
       "    <tr>\n",
       "      <th>4</th>\n",
       "      <td>2016-05-31</td>\n",
       "      <td>5</td>\n",
       "      <td>2016-05-01</td>\n",
       "    </tr>\n",
       "  </tbody>\n",
       "</table>\n",
       "</div>"
      ],
      "text/plain": [
       "  endDatePeriod periodNumber startDatePeriod\n",
       "0    2016-01-31            1      2016-01-01\n",
       "1    2016-02-29            2      2016-02-01\n",
       "2    2016-03-31            3      2016-03-01\n",
       "3    2016-04-30            4      2016-04-01\n",
       "4    2016-05-31            5      2016-05-01"
      ]
     },
     "execution_count": 23,
     "metadata": {},
     "output_type": "execute_result"
    },
    {
     "data": {
      "text/html": [
       "<div>\n",
       "<style scoped>\n",
       "    .dataframe tbody tr th:only-of-type {\n",
       "        vertical-align: middle;\n",
       "    }\n",
       "\n",
       "    .dataframe tbody tr th {\n",
       "        vertical-align: top;\n",
       "    }\n",
       "\n",
       "    .dataframe thead th {\n",
       "        text-align: right;\n",
       "    }\n",
       "</style>\n",
       "<table border=\"1\" class=\"dataframe\">\n",
       "  <thead>\n",
       "    <tr style=\"text-align: right;\">\n",
       "      <th></th>\n",
       "      <th>bankAccNr</th>\n",
       "      <th>bankIdCd</th>\n",
       "      <th>city</th>\n",
       "      <th>commerceNr</th>\n",
       "      <th>contact</th>\n",
       "      <th>country</th>\n",
       "      <th>custSupID</th>\n",
       "      <th>custSupName</th>\n",
       "      <th>custSupTp</th>\n",
       "      <th>eMail</th>\n",
       "      <th>fax</th>\n",
       "      <th>postalCode</th>\n",
       "      <th>streetname</th>\n",
       "      <th>taxRegIdent</th>\n",
       "      <th>taxRegistrationCountry</th>\n",
       "      <th>telephone</th>\n",
       "      <th>website</th>\n",
       "    </tr>\n",
       "  </thead>\n",
       "  <tbody>\n",
       "    <tr>\n",
       "      <th>0</th>\n",
       "      <td>NaN</td>\n",
       "      <td>NaN</td>\n",
       "      <td>NaN</td>\n",
       "      <td>NaN</td>\n",
       "      <td>NaN</td>\n",
       "      <td>NL</td>\n",
       "      <td>1</td>\n",
       "      <td>ABC Producten &amp; Diensten B.V.</td>\n",
       "      <td>B</td>\n",
       "      <td>NaN</td>\n",
       "      <td>NaN</td>\n",
       "      <td>NaN</td>\n",
       "      <td>NaN</td>\n",
       "      <td>NaN</td>\n",
       "      <td>NL</td>\n",
       "      <td>NaN</td>\n",
       "      <td>NaN</td>\n",
       "    </tr>\n",
       "    <tr>\n",
       "      <th>1</th>\n",
       "      <td>2445588</td>\n",
       "      <td>PSTBNL21</td>\n",
       "      <td>Apeldoorn</td>\n",
       "      <td>NaN</td>\n",
       "      <td>NaN</td>\n",
       "      <td>NL</td>\n",
       "      <td>10</td>\n",
       "      <td>Belastingdienst</td>\n",
       "      <td>S</td>\n",
       "      <td>NaN</td>\n",
       "      <td>NaN</td>\n",
       "      <td>NaN</td>\n",
       "      <td>NaN</td>\n",
       "      <td>NaN</td>\n",
       "      <td>NL</td>\n",
       "      <td>NaN</td>\n",
       "      <td>www.belastingdienst.nl</td>\n",
       "    </tr>\n",
       "    <tr>\n",
       "      <th>2</th>\n",
       "      <td>NaN</td>\n",
       "      <td>NaN</td>\n",
       "      <td>'S-GRAVENHAGE</td>\n",
       "      <td>271376310000</td>\n",
       "      <td>NaN</td>\n",
       "      <td>NL</td>\n",
       "      <td>11</td>\n",
       "      <td>Mijn Magazijn B.V.</td>\n",
       "      <td>S</td>\n",
       "      <td>NaN</td>\n",
       "      <td>NaN</td>\n",
       "      <td>2583AK</td>\n",
       "      <td>Westduinweg 262</td>\n",
       "      <td>NaN</td>\n",
       "      <td>NL</td>\n",
       "      <td>070  3559269</td>\n",
       "      <td>NaN</td>\n",
       "    </tr>\n",
       "    <tr>\n",
       "      <th>3</th>\n",
       "      <td>NaN</td>\n",
       "      <td>NaN</td>\n",
       "      <td>ROTTERDAM</td>\n",
       "      <td>244773190000</td>\n",
       "      <td>NaN</td>\n",
       "      <td>NL</td>\n",
       "      <td>12</td>\n",
       "      <td>Warmtebedrijf Eneco Delft B.V.</td>\n",
       "      <td>S</td>\n",
       "      <td>NaN</td>\n",
       "      <td>NaN</td>\n",
       "      <td>3068AZ</td>\n",
       "      <td>G.H. Betzweg 1</td>\n",
       "      <td>NaN</td>\n",
       "      <td>NL</td>\n",
       "      <td>088  8953736</td>\n",
       "      <td>www.warmteindelft.nl</td>\n",
       "    </tr>\n",
       "    <tr>\n",
       "      <th>4</th>\n",
       "      <td>NaN</td>\n",
       "      <td>NaN</td>\n",
       "      <td>UTRECHT</td>\n",
       "      <td>370267060000</td>\n",
       "      <td>NaN</td>\n",
       "      <td>NL</td>\n",
       "      <td>13</td>\n",
       "      <td>Ziggo B.V.</td>\n",
       "      <td>S</td>\n",
       "      <td>NaN</td>\n",
       "      <td>NaN</td>\n",
       "      <td>3542AB</td>\n",
       "      <td>Atoomweg 100</td>\n",
       "      <td>NaN</td>\n",
       "      <td>NL</td>\n",
       "      <td>088  7170000</td>\n",
       "      <td>www.ziggo.nl</td>\n",
       "    </tr>\n",
       "  </tbody>\n",
       "</table>\n",
       "</div>"
      ],
      "text/plain": [
       "  bankAccNr  bankIdCd           city    commerceNr contact country custSupID  \\\n",
       "0       NaN       NaN            NaN           NaN     NaN      NL         1   \n",
       "1   2445588  PSTBNL21      Apeldoorn           NaN     NaN      NL        10   \n",
       "2       NaN       NaN  'S-GRAVENHAGE  271376310000     NaN      NL        11   \n",
       "3       NaN       NaN      ROTTERDAM  244773190000     NaN      NL        12   \n",
       "4       NaN       NaN        UTRECHT  370267060000     NaN      NL        13   \n",
       "\n",
       "                      custSupName custSupTp eMail  fax postalCode  \\\n",
       "0   ABC Producten & Diensten B.V.         B   NaN  NaN        NaN   \n",
       "1                 Belastingdienst         S   NaN  NaN        NaN   \n",
       "2              Mijn Magazijn B.V.         S   NaN  NaN     2583AK   \n",
       "3  Warmtebedrijf Eneco Delft B.V.         S   NaN  NaN     3068AZ   \n",
       "4                      Ziggo B.V.         S   NaN  NaN     3542AB   \n",
       "\n",
       "        streetname taxRegIdent taxRegistrationCountry     telephone  \\\n",
       "0              NaN         NaN                     NL           NaN   \n",
       "1              NaN         NaN                     NL           NaN   \n",
       "2  Westduinweg 262         NaN                     NL  070  3559269   \n",
       "3   G.H. Betzweg 1         NaN                     NL  088  8953736   \n",
       "4     Atoomweg 100         NaN                     NL  088  7170000   \n",
       "\n",
       "                  website  \n",
       "0                     NaN  \n",
       "1  www.belastingdienst.nl  \n",
       "2                     NaN  \n",
       "3    www.warmteindelft.nl  \n",
       "4            www.ziggo.nl  "
      ]
     },
     "execution_count": 23,
     "metadata": {},
     "output_type": "execute_result"
    }
   ],
   "source": [
    "basics.head()\n",
    "genledg.head()\n",
    "vatcode.head()\n",
    "periods.head()\n",
    "custsup.head()"
   ]
  },
  {
   "cell_type": "markdown",
   "metadata": {
    "slideshow": {
     "slide_type": "subslide"
    }
   },
   "source": [
    "### 3.4 Parsen van data van de journals"
   ]
  },
  {
   "cell_type": "code",
   "execution_count": 24,
   "metadata": {
    "scrolled": true
   },
   "outputs": [
    {
     "data": {
      "text/html": [
       "<div>\n",
       "<style scoped>\n",
       "    .dataframe tbody tr th:only-of-type {\n",
       "        vertical-align: middle;\n",
       "    }\n",
       "\n",
       "    .dataframe tbody tr th {\n",
       "        vertical-align: top;\n",
       "    }\n",
       "\n",
       "    .dataframe thead th {\n",
       "        text-align: right;\n",
       "    }\n",
       "</style>\n",
       "<table border=\"1\" class=\"dataframe\">\n",
       "  <thead>\n",
       "    <tr style=\"text-align: right;\">\n",
       "      <th></th>\n",
       "      <th>desc</th>\n",
       "      <th>jrnID</th>\n",
       "      <th>offsetAccID</th>\n",
       "      <th>bankAccNr</th>\n",
       "      <th>journaltype</th>\n",
       "    </tr>\n",
       "  </thead>\n",
       "  <tbody>\n",
       "    <tr>\n",
       "      <th>0</th>\n",
       "      <td>Kasboek</td>\n",
       "      <td>10</td>\n",
       "      <td>1000</td>\n",
       "      <td>NaN</td>\n",
       "      <td>kasboek</td>\n",
       "    </tr>\n",
       "    <tr>\n",
       "      <th>1</th>\n",
       "      <td>Bankboek</td>\n",
       "      <td>20</td>\n",
       "      <td>1100</td>\n",
       "      <td>1111111111</td>\n",
       "      <td>bankboek</td>\n",
       "    </tr>\n",
       "    <tr>\n",
       "      <th>2</th>\n",
       "      <td>473677091</td>\n",
       "      <td>21</td>\n",
       "      <td>1101</td>\n",
       "      <td>473677091</td>\n",
       "      <td>bankboek</td>\n",
       "    </tr>\n",
       "    <tr>\n",
       "      <th>3</th>\n",
       "      <td>bank test</td>\n",
       "      <td>22</td>\n",
       "      <td>1102</td>\n",
       "      <td>0444144803</td>\n",
       "      <td>bankboek</td>\n",
       "    </tr>\n",
       "    <tr>\n",
       "      <th>4</th>\n",
       "      <td>Inkoopboek</td>\n",
       "      <td>60</td>\n",
       "      <td>1600</td>\n",
       "      <td>NaN</td>\n",
       "      <td>inkoopboek</td>\n",
       "    </tr>\n",
       "    <tr>\n",
       "      <th>5</th>\n",
       "      <td>Verkoopboek</td>\n",
       "      <td>70</td>\n",
       "      <td>1300</td>\n",
       "      <td>NaN</td>\n",
       "      <td>verkoopboek</td>\n",
       "    </tr>\n",
       "    <tr>\n",
       "      <th>6</th>\n",
       "      <td>Memoriaal</td>\n",
       "      <td>90</td>\n",
       "      <td>NaN</td>\n",
       "      <td>NaN</td>\n",
       "      <td>memoriaal</td>\n",
       "    </tr>\n",
       "    <tr>\n",
       "      <th>7</th>\n",
       "      <td>Activamutaties</td>\n",
       "      <td>95</td>\n",
       "      <td>NaN</td>\n",
       "      <td>NaN</td>\n",
       "      <td>memoriaal</td>\n",
       "    </tr>\n",
       "  </tbody>\n",
       "</table>\n",
       "</div>"
      ],
      "text/plain": [
       "             desc jrnID offsetAccID   bankAccNr  journaltype\n",
       "0         Kasboek    10        1000         NaN      kasboek\n",
       "1        Bankboek    20        1100  1111111111     bankboek\n",
       "2       473677091    21        1101   473677091     bankboek\n",
       "3       bank test    22        1102  0444144803     bankboek\n",
       "4      Inkoopboek    60        1600         NaN   inkoopboek\n",
       "5     Verkoopboek    70        1300         NaN  verkoopboek\n",
       "6       Memoriaal    90         NaN         NaN    memoriaal\n",
       "7  Activamutaties    95         NaN         NaN    memoriaal"
      ]
     },
     "execution_count": 24,
     "metadata": {},
     "output_type": "execute_result"
    }
   ],
   "source": [
    "\n",
    "\n",
    "journals = company.findall('af:transactions/af:journal', namespaces)\n",
    "journal_df = pd.DataFrame()\n",
    "\n",
    "for journal in journals: # importeert de aanwezig dagboeken. Per dagboek zijn de transacties in een sublaag te vinden.\n",
    "    jrninfo = dict()\n",
    "    \n",
    "    for records in journal:\n",
    "        if len(records) == 0:\n",
    "            columnnames = records.tag.replace(ns,'')\n",
    "            columnvalues = records.text\n",
    "            jrninfo[columnnames] = columnvalues\n",
    "    journal_df = journal_df.append(jrninfo, ignore_index = True)\n",
    "\n",
    "\n",
    "journaltype(journal_df) # format het juiste dagboektype\n",
    "journal_df = journal_df.drop(['jrnTp'] , axis = 1)\n",
    "\n",
    "journal_df"
   ]
  },
  {
   "cell_type": "markdown",
   "metadata": {
    "slideshow": {
     "slide_type": "subslide"
    }
   },
   "source": [
    "### 3.5 Parsen van de transactions in de journals\n",
    "In de journals zitten meerdere transactions. we willen van alle journals alle transactions hebben:\n",
    "> journal 1 <br>\n",
    "> journal 2 <br>\n",
    "> journal 3 <br>\n",
    ">> transaction 1 <br>\n",
    ">> transaction 2 <br>\n",
    ">> transaction 3 <br>\n",
    ">>> transactionline 1  <font color='green'>kolomnamen, kolomnwaardes</font> <br>\n",
    ">>> transactionline 2  <font color='green'>kolomnamen, kolomnwaardes</font> <br>\n",
    ">>> transactionline 3  <font color='green'>kolomnamen, kolomnwaardes</font> <br>\n"
   ]
  },
  {
   "cell_type": "code",
   "execution_count": 25,
   "metadata": {
    "slideshow": {
     "slide_type": "subslide"
    }
   },
   "outputs": [],
   "source": [
    "transactions_df = pd.DataFrame()\n",
    "\n",
    "total_records = list()\n",
    "record_dict = dict()\n",
    "\n",
    "for journal in journals: # voor alle dagboeken in de auditfile\n",
    "    \n",
    "    \n",
    "    for records in journal: # voor de alle records die in het dagboek zitten\n",
    "        \n",
    "        if len(records) == 0:\n",
    "            columnnames = records.tag.replace(ns,'')\n",
    "            columnvalues = records.text\n",
    "            record_dict[columnnames] = columnvalues\n",
    "\n",
    "        else:\n",
    "            for record in records: # voor alle velden in de record\n",
    "                if len(record) == 0:\n",
    "                    columnnames = record.tag.replace(ns,'')\n",
    "                    columnvalues = record.text\n",
    "                    record_dict[columnnames] = columnvalues # de kolomnaam en kolomwaarde van dit record\n",
    "\n",
    "                else:\n",
    "\n",
    "                    for subfields in record: # soms zit de informatie nog een laag dieper.\n",
    "                        if len(subfields) == 0:\n",
    "                            columnnames = subfields.tag.replace(ns,'')\n",
    "                            columnvalues = subfields.text\n",
    "                            record_dict[columnnames] = columnvalues #  de kolomnaam en kolomwaarde van dit record\n",
    "\n",
    "                        else: \n",
    "\n",
    "                            for subfields_1 in subfields: # check of er nog een laag dieper is. als dit zo is krijg je terug dat er nog een sublaag is gevonden. Normaliter zal deze if statement nooit getriggered worden.\n",
    "                                if len(subfields_1) == 0:\n",
    "                                    columnnames = subfields_1.tag.replace(ns,'')\n",
    "                                    columnvalues = subfields_1.text\n",
    "                                    record_dict[columnnames] = columnvalues\n",
    "                                else : print('nog een sublaag!')\n",
    "\n",
    "                    \n",
    "                    total_records.append(record_dict.copy()) # plak de record aan de totaal tabel.\n",
    "\n",
    "transactions_df = transactions_df.append(total_records, ignore_index = True)\n"
   ]
  },
  {
   "cell_type": "markdown",
   "metadata": {
    "slideshow": {
     "slide_type": "slide"
    }
   },
   "source": [
    "***\n",
    "# 4. Auditfile preppen"
   ]
  },
  {
   "cell_type": "markdown",
   "metadata": {},
   "source": [
    "### 4.1 accounttype toevoegen aan general ledger"
   ]
  },
  {
   "cell_type": "code",
   "execution_count": 26,
   "metadata": {},
   "outputs": [],
   "source": [
    "accounttype(genledg) # bepaal de types Winst & Verlies of Balans --> zie functies aan het begin van het script."
   ]
  },
  {
   "cell_type": "markdown",
   "metadata": {},
   "source": [
    "### 4.2 Transacties het juiste dataformat geven\n",
    "_aanmaken van nieuwe velden en aanpassen van datatypes_"
   ]
  },
  {
   "cell_type": "code",
   "execution_count": 31,
   "metadata": {
    "scrolled": false
   },
   "outputs": [],
   "source": [
    "tr = transactions_df \n",
    "\n",
    "amount(tr) # zet het amountveld in het juiste formaat --> zie functies\n",
    "\n",
    "tr = tr.drop(['amnt', 'amntTp', ], axis=1)\n",
    "\n",
    "\n",
    "tr['effDate'] = pd.to_datetime(tr['effDate'])\n",
    "tr['trDt'] = pd.to_datetime(tr['trDt'])\n",
    "\n",
    "if 'vatAmnt' in tr.columns:\n",
    "    vat_amount(tr)  # zet het vat_amount veld in het juiste formaat --> zie functies\n",
    "    tr = tr.drop(['vatAmnt', 'vatAmntTp'], axis=1)\n",
    "\n",
    "else:\n",
    "    print('geen vat amount!')\n",
    "    tr['vatID'] = None\n"
   ]
  },
  {
   "cell_type": "markdown",
   "metadata": {
    "slideshow": {
     "slide_type": "slide"
    }
   },
   "source": [
    "### 4.3 Tabellen aan elkaar koppelen\n",
    "_De volgende stamtabellen worden aan elkaar gelinkt op unieke ID_\n",
    "   1. periods\n",
    "   2. vatcodes\n",
    "   3. customers suppliers\n",
    "   4. general ledger\n",
    "   5. journalinfo\n",
    "   6. auditfile info\n",
    "   "
   ]
  },
  {
   "cell_type": "code",
   "execution_count": 32,
   "metadata": {
    "scrolled": true,
    "slideshow": {
     "slide_type": "slide"
    }
   },
   "outputs": [],
   "source": [
    "    # join met periods\n",
    "    temp_1 = pd.merge(tr, periods, on ='periodNumber', how='left')\n",
    "\n",
    "    # join met vatcodes\n",
    "\n",
    "    if len(vatcode) != 0 :\n",
    "        temp_2 = pd.merge(temp_1, vatcode, on='vatID', how='left')\n",
    "    else:\n",
    "        temp_2 = temp_1\n",
    "\n",
    "    # join met customersuppliers\n",
    "    if 'custSupID' in temp_2.columns and len(custsup) != 0:\n",
    "        temp_3 = pd.merge(temp_2, custsup.add_prefix('cs_'), left_on='custSupID' , right_on = 'cs_custSupID', how='left')\n",
    "    else:\n",
    "        temp_3 = temp_2\n",
    "\n",
    "    # join met generalLedger\n",
    "    temp_4 = pd.merge(temp_3, genledg, on='accID' , how='left')\n",
    "\n",
    "    # join met journalinfo\n",
    "    temp_5= pd.merge(temp_4, journal_df.add_prefix('jrn_'),left_on = 'jrnID', right_on='jrn_jrnID' , how='left')\n",
    "\n",
    "    \n",
    "    # Plak de filename aan de transacties\n",
    "    temp_5['file'] = file\n",
    "    \n",
    "    # sommige zullen de volgende stap van het toevoegen van de metadata auditfile over alle regels van de dataset niet het meest efficient vinden.\n",
    "    #In mijn geval wil ik de data van de auditfile gebruiken om een tableau workbook te maken met dashboards.\n",
    "    \n",
    "    temp_6 = temp_5.merge(af_info, on='file', how = 'left')\n",
    "\n",
    "   # plak de auditfile info aan de transacties\n",
    "\n",
    "    # voeg nog wat velden toe\n",
    "    temp_6['effMonth'] = temp_6.effDate.map(lambda x: x.month) # omdat effdate een datumveld is kunnen we met een korte functie het maandnummer ontsluiten\n",
    "    temp_6['grootboek'] = temp_6.accID + ' - ' + temp_6.accDesc\n",
    "    temp_6['dagboek'] = temp_6.jrnID + ' - ' + temp_6.jrn_desc\n",
    "\n",
    "    auditfile = temp_6"
   ]
  },
  {
   "cell_type": "code",
   "execution_count": 33,
   "metadata": {},
   "outputs": [
    {
     "data": {
      "text/plain": [
       "companyName    softwareDesc\n",
       "Toro Rosso BV  Exact Online    0.0\n",
       "Name: amount, dtype: float64"
      ]
     },
     "execution_count": 33,
     "metadata": {},
     "output_type": "execute_result"
    }
   ],
   "source": [
    "auditfile.groupby(['companyName', 'softwareDesc'])['amount'].sum().round(-2) # check of de trainsacties in balans zijn\n"
   ]
  },
  {
   "cell_type": "markdown",
   "metadata": {
    "slideshow": {
     "slide_type": "slide"
    }
   },
   "source": [
    "***\n",
    "# 5. Auditfile exporteren"
   ]
  },
  {
   "cell_type": "code",
   "execution_count": 35,
   "metadata": {
    "slideshow": {
     "slide_type": "subslide"
    }
   },
   "outputs": [],
   "source": [
    "writer = pd.ExcelWriter('auditfile.xlsx') # de auditfile kunnen we exporteren naar excel om vervolgens te gebruiken voor je doeleinden.\n",
    "auditfile.to_excel(writer, 'export_af')\n",
    "writer.save()"
   ]
  },
  {
   "cell_type": "code",
   "execution_count": null,
   "metadata": {},
   "outputs": [],
   "source": [
    "# end of script"
   ]
  }
 ],
 "metadata": {
  "kernelspec": {
   "display_name": "Python 3",
   "language": "python",
   "name": "python3"
  },
  "language_info": {
   "codemirror_mode": {
    "name": "ipython",
    "version": 3
   },
   "file_extension": ".py",
   "mimetype": "text/x-python",
   "name": "python",
   "nbconvert_exporter": "python",
   "pygments_lexer": "ipython3",
   "version": "3.6.5"
  }
 },
 "nbformat": 4,
 "nbformat_minor": 2
}
