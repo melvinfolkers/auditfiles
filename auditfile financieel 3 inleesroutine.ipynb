{
 "cells": [
  {
   "cell_type": "markdown",
   "metadata": {},
   "source": [
    "<img src=\"https://static.wixstatic.com/media/a9ca5e_825bd4d39e7d468faf735b801fa3dea4~mv2.png/v1/fill/w_1458,h_246,al_c,usm_0.66_1.00_0.01/a9ca5e_825bd4d39e7d468faf735b801fa3dea4~mv2.png\" width=\"100\">"
   ]
  },
  {
   "cell_type": "markdown",
   "metadata": {
    "slideshow": {
     "slide_type": "slide"
    }
   },
   "source": [
    "\n",
    " # __Notebook voor het importeren van 3.* auditfiles__\n",
    "\n",
    " \n",
    " __Auteur:__ Melvin Folkers (Yellow Stacks B.V.)<br>\n",
    " __Versie:__ 04 juli 2018<br>\n",
    " __Doel:__ Het importeren van auditfiles 3.* <br>\n",
    " ***\n",
    "\n",
    "__overzicht van paragrafen in deze notebook__\n",
    " > __1. Parameters instellen__<br>\n",
    " \n",
    " > > 1.0 installeren van de benodigde bibliotheken<br>\n",
    " > 1.1 Notebook settings<br>\n",
    " > 1.2 Importeren van bibliotheken<br>\n",
    "\n",
    "  \n",
    " > __2. functies__<br>\n",
    " > __3. Auditfile tabellen importeren__<br>\n",
    " > __4. Auditfile preppen__<br>\n",
    " > __5. Auditfile exporteren__<br>\n",
    " "
   ]
  },
  {
   "cell_type": "markdown",
   "metadata": {},
   "source": [
    "__introductie__\n",
    "\n",
    "Het doel van deze notebook is om auditfiles van het type 3 om te zetten in een dataset van grootboekmutaties.<br> \n",
    "De grootboekmutaties worden voorzien van informatie van de relaties, btwcodes, grootboek,dagboek, -en bedrijfsinformatie. <br>\n",
    "In het script worden er ook validatiechecks gedaan op de ingelezen regels. <br>\n",
    "De mutaties worden vervolgens geexporteerd naar een excelbestand.\n",
    "\n",
    "Het script is gemaakt om __1 auditfile in te lezen__, ter demonstratie van wat python kan betekenen voor collega's werkzaam in de financiele branche (te denken aan: audit / tax / controlling).<br>\n",
    "Dit soort scripts kunnen doorontwikkeld worden opdat meer auditfiles tergelijk kunnen worden ingelezen.<br>\n",
    "Zorg ervoor dat wanneer je het script wil draaien, dat je de auditfile in dezelfde map zet als deze notebook.\n"
   ]
  },
  {
   "cell_type": "markdown",
   "metadata": {
    "slideshow": {
     "slide_type": "slide"
    }
   },
   "source": [
    "\n",
    "# 1. Parameters instellen"
   ]
  },
  {
   "cell_type": "markdown",
   "metadata": {},
   "source": [
    "als je voor de eerste keer jupyter notebook gebruikt moeten er nog wat bibliotheken (packages) geinstalleerd worden. Door onderstaande code te runnen met de Install parameter op <font color=\"green\">__True__</font>.<br>\n",
    "Wanneer je dat hebt gedaan kan je de waarde weer op <font color=\"green\">__False__</font> zetten, omdat je dit maar 1 keer hoeft te doen."
   ]
  },
  {
   "cell_type": "markdown",
   "metadata": {},
   "source": [
    "### 1.0 installeren van de benodigde bibliotheken"
   ]
  },
  {
   "cell_type": "code",
   "execution_count": 2,
   "metadata": {},
   "outputs": [],
   "source": [
    "install = False\n",
    "\n",
    "if install == False : None\n",
    "else : \n",
    "    !pip install numpy\n",
    "    !pip install matplotlib\n",
    "    !pip install pandas\n",
    "    !pip install xml.etree.ElementTree\n",
    "    !pip install matplotlib"
   ]
  },
  {
   "cell_type": "markdown",
   "metadata": {},
   "source": [
    "### 1.1 Notebook settings\n",
    "__instellingen voor gebruik van deze jupyter notebook__<br>\n",
    "deze instellingen zorgen ervoor dat de notebook het hele scherm vult en dat er grafieken getoond kunnen worden."
   ]
  },
  {
   "cell_type": "code",
   "execution_count": 3,
   "metadata": {
    "slideshow": {
     "slide_type": "subslide"
    }
   },
   "outputs": [
    {
     "data": {
      "text/html": [
       "<style>.container { width:100% !important; }</style>"
      ],
      "text/plain": [
       "<IPython.core.display.HTML object>"
      ]
     },
     "metadata": {},
     "output_type": "execute_result"
    }
   ],
   "source": [
    "from IPython.core.display import display, HTML\n",
    "display(HTML(\"<style>.container { width:100% !important; }</style>\"))\n",
    "\n",
    "%matplotlib inline\n",
    "\n",
    "from IPython.core.interactiveshell import InteractiveShell\n",
    "InteractiveShell.ast_node_interactivity = \"all\""
   ]
  },
  {
   "cell_type": "markdown",
   "metadata": {
    "slideshow": {
     "slide_type": "subslide"
    }
   },
   "source": [
    "### 1.2 Importeren van bibliotheken\n",
    "deze instellingen zorgen ervoor dat de notebook het hele scherm vult en dat er grafieken getoond kunnen worden. "
   ]
  },
  {
   "cell_type": "code",
   "execution_count": 4,
   "metadata": {
    "slideshow": {
     "slide_type": "subslide"
    }
   },
   "outputs": [],
   "source": [
    "\n",
    "import sys, os\n",
    "import pandas as pd\n",
    "import numpy as np\n",
    "import xml.etree.ElementTree as ET\n",
    "\n",
    "from datetime import datetime"
   ]
  },
  {
   "cell_type": "markdown",
   "metadata": {},
   "source": [
    "***\n",
    "# 2. Functies\n",
    "__functies voor importeren van diverse lagen in de auditfile__ <br><br>\n",
    "De functies die hieronder zijn geschreven zijn gemaakt om de meerder lagen van de auditfile door te lezen.<br>\n",
    "Functies moeten altijd bovenaan het script worden gezet, omdat je deze later gaat aanroepen.<br>\n",
    "Het echte script begint dus pas in __hoofdstuk 3__. let op dat je het onderstaande script runt tot hoofdstuk 3."
   ]
  },
  {
   "cell_type": "markdown",
   "metadata": {
    "slideshow": {
     "slide_type": "slide"
    }
   },
   "source": [
    "### 2.1 Functies voor het parsen van data"
   ]
  },
  {
   "cell_type": "code",
   "execution_count": 5,
   "metadata": {
    "slideshow": {
     "slide_type": "fragment"
    }
   },
   "outputs": [],
   "source": [
    "def parse_info(root):\n",
    "   \n",
    "    recordcontent = dict()\n",
    "    \n",
    "    for child in root:\n",
    "        columnname = child.tag.replace(ns,'')\n",
    "        columnvalue = child.text\n",
    "        \n",
    "        if len(child) == 0:\n",
    "            recordcontent[columnname] = columnvalue     \n",
    "            \n",
    "        else: continue\n",
    "            \n",
    "    return recordcontent  "
   ]
  },
  {
   "cell_type": "code",
   "execution_count": 6,
   "metadata": {
    "slideshow": {
     "slide_type": "fragment"
    }
   },
   "outputs": [],
   "source": [
    "def stamtabellen(root) :    \n",
    "    \n",
    "    currentrow = 0\n",
    "    records = dict()\n",
    "\n",
    "    for child in root:\n",
    "\n",
    "        module = child.tag.replace(ns,'')\n",
    "        recordcontent = dict()\n",
    "\n",
    "        for subchild in child:\n",
    "\n",
    "            if len(subchild) != 0:\n",
    "                for subsubchild in subchild:\n",
    "                    columnvalue = subsubchild.text\n",
    "                    columnname = subsubchild.tag.replace(ns,'')\n",
    "                    recordcontent[columnname] = columnvalue\n",
    "\n",
    "                    if len(subsubchild) != 0: print('let op! nog een sublaag gevonden')\n",
    "            else:\n",
    "                columnvalue =subchild.text\n",
    "                columnname = subchild.tag.replace(ns,'')\n",
    "                recordcontent[columnname] = columnvalue\n",
    "\n",
    "        records[currentrow] = recordcontent\n",
    "        currentrow +=1\n",
    "\n",
    "    df = pd.DataFrame(records).transpose()\n",
    "    return df"
   ]
  },
  {
   "cell_type": "code",
   "execution_count": 7,
   "metadata": {
    "slideshow": {
     "slide_type": "fragment"
    }
   },
   "outputs": [],
   "source": [
    "def tags_in_module(modules):\n",
    "    tag = dict()\n",
    "    \n",
    "    for submodule in modules:\n",
    "        tagname = submodule.tag.replace(ns,'')\n",
    "        tag[tagname] = tag.get(tagname, 0) + 1\n",
    "    return tag"
   ]
  },
  {
   "cell_type": "markdown",
   "metadata": {
    "slideshow": {
     "slide_type": "slide"
    }
   },
   "source": [
    "### 2.2 Functies voor het converteren van data"
   ]
  },
  {
   "cell_type": "code",
   "execution_count": 8,
   "metadata": {},
   "outputs": [],
   "source": [
    "def accounttype(dataframe):\n",
    "\n",
    "    conditions = [\n",
    "        (dataframe['accTp'] == 'P'),\n",
    "        (dataframe['accTp'] == 'B')]\n",
    "\n",
    "    choices = ['Winst & verlies','Balans']\n",
    "\n",
    "    dataframe['accounttype'] = np.select(conditions, choices, default= 'onbekende balanstype' + dataframe['accTp'] )\n"
   ]
  },
  {
   "cell_type": "code",
   "execution_count": 9,
   "metadata": {
    "slideshow": {
     "slide_type": "fragment"
    }
   },
   "outputs": [],
   "source": [
    "def journaltype(dataframe):\n",
    "\n",
    "    conditions = [\n",
    "        (dataframe['jrnTp'] == 'Z'),\n",
    "        (dataframe['jrnTp'] == 'B'),\n",
    "        (dataframe['jrnTp'] == 'P'),\n",
    "        (dataframe['jrnTp'] == 'O'),\n",
    "        (dataframe['jrnTp'] == 'C'),\n",
    "        (dataframe['jrnTp'] == 'M'),\n",
    "        (dataframe['jrnTp'] == 'Y'),\n",
    "        (dataframe['jrnTp'] == 'S')]\n",
    "\n",
    "    choices = ['memoriaal', 'bankboek' , 'inkoopboek' , 'open/sluit balans', 'kasboek', 'memoriaal', 'salaris', 'verkoopboek']\n",
    "\n",
    "    dataframe['journaltype'] = np.select(conditions, choices, default= 'onbekend dagboek' )"
   ]
  },
  {
   "cell_type": "code",
   "execution_count": 10,
   "metadata": {
    "slideshow": {
     "slide_type": "fragment"
    }
   },
   "outputs": [],
   "source": [
    "def vat_amount(dataframe):\n",
    "\n",
    "    vat_amount_raw = dataframe['vatAmnt'].astype(float)\n",
    "    \n",
    "    conditions = [\n",
    "        (dataframe['vatAmntTp'] == 'C'),\n",
    "        (dataframe['vatAmntTp'] == 'D')]\n",
    "\n",
    "    choices = [-1,1]\n",
    "\n",
    "    dataframe['vat_amount'] = np.select(conditions, choices, default= 1 ) * vat_amount_raw\n"
   ]
  },
  {
   "cell_type": "code",
   "execution_count": 11,
   "metadata": {
    "slideshow": {
     "slide_type": "fragment"
    }
   },
   "outputs": [],
   "source": [
    "def amount(dataframe):\n",
    "\n",
    "    amount_raw = dataframe['amnt'].astype(float)\n",
    "    \n",
    "    conditions = [\n",
    "        (dataframe['amntTp'] == 'C'),\n",
    "        (dataframe['amntTp'] == 'D')]\n",
    "\n",
    "    choices = [-1,1]\n",
    "\n",
    "    dataframe['amount'] = np.select(conditions, choices, default= 1 ) * amount_raw\n"
   ]
  },
  {
   "cell_type": "markdown",
   "metadata": {
    "slideshow": {
     "slide_type": "slide"
    }
   },
   "source": [
    "***\n",
    "# 3. Importeren van de auditfile\n",
    "_starten met importeren van de auditfile data_"
   ]
  },
  {
   "cell_type": "markdown",
   "metadata": {
    "slideshow": {
     "slide_type": "subslide"
    }
   },
   "source": [
    "### 3.1 lees de auditfile in met de xml parser"
   ]
  },
  {
   "cell_type": "markdown",
   "metadata": {},
   "source": [
    "__lees het xml bestand in__<br>\n",
    "wanneer er meer dan 1 audifile instaat wordt de eerste auditfile in de lijst gekozen.<br>\n"
   ]
  },
  {
   "cell_type": "code",
   "execution_count": 12,
   "metadata": {},
   "outputs": [],
   "source": [
    "pakket = 'multivers'"
   ]
  },
  {
   "cell_type": "code",
   "execution_count": 13,
   "metadata": {
    "scrolled": false
   },
   "outputs": [],
   "source": [
    "files = {'multivers':'Multivers_V32_2017.xaf', 'twinfield':'Twinfield_V31_2016.xaf','exact':'ExactOnline_V32_2016.xaf','onbekend': 'XmlAuditfileFinancieel3.2_test.xml'}\n",
    "\n",
    "file  = r'/Users/melvinfolkers/Documents/github/Analytics/A_GENERAL/auditfiles/' + files[pakket]\n"
   ]
  },
  {
   "cell_type": "code",
   "execution_count": 14,
   "metadata": {
    "slideshow": {
     "slide_type": "subslide"
    }
   },
   "outputs": [],
   "source": [
    "tree = ET.parse(file)\n",
    "root = tree.getroot()\n",
    "namespaces = {'xsd':\"http://www.w3.org/2001/XMLSchema\", 'xsi':\"http://www.w3.org/2001/XMLSchema-instance\" }\n"
   ]
  },
  {
   "cell_type": "markdown",
   "metadata": {},
   "source": [
    "_stel namespace vast_"
   ]
  },
  {
   "cell_type": "code",
   "execution_count": 15,
   "metadata": {
    "slideshow": {
     "slide_type": "subslide"
    }
   },
   "outputs": [],
   "source": [
    "\n",
    "ns_raw =  root.tag.split('{')[1].split('}')[0]\n",
    "ns = '{'+ ns_raw + '}'\n",
    "namespaces['af'] = ns_raw\n"
   ]
  },
  {
   "cell_type": "markdown",
   "metadata": {
    "slideshow": {
     "slide_type": "slide"
    }
   },
   "source": [
    "### 3.2 Maak onderscheid tussen header en company subledgers"
   ]
  },
  {
   "cell_type": "markdown",
   "metadata": {
    "slideshow": {
     "slide_type": "subslide"
    }
   },
   "source": [
    "_splitst de auditfile op in 3 blokken._\n",
    "> - header\n",
    "> - company\n",
    "> - transactions"
   ]
  },
  {
   "cell_type": "code",
   "execution_count": 16,
   "metadata": {
    "slideshow": {
     "slide_type": "subslide"
    }
   },
   "outputs": [],
   "source": [
    "header    = root.find('af:header',namespaces)\n",
    "company   = root.find('af:company', namespaces)\n",
    "transactions = root.find('af:company/af:transactions', namespaces)"
   ]
  },
  {
   "cell_type": "markdown",
   "metadata": {},
   "source": [
    "_leest de eerste laag van het xml niveau in. Dit kunnen we zijn als de metadata van de auditfile_"
   ]
  },
  {
   "cell_type": "code",
   "execution_count": 17,
   "metadata": {
    "slideshow": {
     "slide_type": "skip"
    }
   },
   "outputs": [
    {
     "data": {
      "text/html": [
       "<div>\n",
       "<style scoped>\n",
       "    .dataframe tbody tr th:only-of-type {\n",
       "        vertical-align: middle;\n",
       "    }\n",
       "\n",
       "    .dataframe tbody tr th {\n",
       "        vertical-align: top;\n",
       "    }\n",
       "\n",
       "    .dataframe thead th {\n",
       "        text-align: right;\n",
       "    }\n",
       "</style>\n",
       "<table border=\"1\" class=\"dataframe\">\n",
       "  <thead>\n",
       "    <tr style=\"text-align: right;\">\n",
       "      <th></th>\n",
       "      <th>curCode</th>\n",
       "      <th>dateCreated</th>\n",
       "      <th>endDate</th>\n",
       "      <th>fiscalYear</th>\n",
       "      <th>softwareDesc</th>\n",
       "      <th>softwareVersion</th>\n",
       "      <th>startDate</th>\n",
       "      <th>companyIdent</th>\n",
       "      <th>companyName</th>\n",
       "      <th>taxRegIdent</th>\n",
       "      <th>taxRegistrationCountry</th>\n",
       "      <th>linesCount</th>\n",
       "      <th>totalCredit</th>\n",
       "      <th>totalDebit</th>\n",
       "    </tr>\n",
       "  </thead>\n",
       "  <tbody>\n",
       "    <tr>\n",
       "      <th>0</th>\n",
       "      <td>EUR</td>\n",
       "      <td>2017-05-08</td>\n",
       "      <td>2017-12-31</td>\n",
       "      <td>2017</td>\n",
       "      <td>Unit4 Multivers</td>\n",
       "      <td>10.9.2658.33026</td>\n",
       "      <td>2017-01-01</td>\n",
       "      <td>MVL00003</td>\n",
       "      <td>Demonstratiebedrijf Homegarden</td>\n",
       "      <td>004532016</td>\n",
       "      <td>NL</td>\n",
       "      <td>371</td>\n",
       "      <td>135836.32</td>\n",
       "      <td>135836.32</td>\n",
       "    </tr>\n",
       "  </tbody>\n",
       "</table>\n",
       "</div>"
      ],
      "text/plain": [
       "  curCode dateCreated     endDate fiscalYear     softwareDesc  \\\n",
       "0     EUR  2017-05-08  2017-12-31       2017  Unit4 Multivers   \n",
       "\n",
       "   softwareVersion   startDate companyIdent                     companyName  \\\n",
       "0  10.9.2658.33026  2017-01-01     MVL00003  Demonstratiebedrijf Homegarden   \n",
       "\n",
       "  taxRegIdent taxRegistrationCountry linesCount totalCredit totalDebit  \n",
       "0   004532016                     NL        371   135836.32  135836.32  "
      ]
     },
     "execution_count": 17,
     "metadata": {},
     "output_type": "execute_result"
    }
   ],
   "source": [
    "\n",
    "headerinfo = pd.DataFrame(parse_info(header), index = [0])\n",
    "companyinfo = pd.DataFrame(parse_info(company), index = [0])\n",
    "transactioninfo = pd.DataFrame(parse_info(transactions), index = [0])\n",
    "af_info = pd.concat([headerinfo, companyinfo, transactioninfo], axis = 1)\n",
    "\n",
    "af_info"
   ]
  },
  {
   "cell_type": "markdown",
   "metadata": {},
   "source": [
    "### 3.3 Parsen van data van de stamtabellen"
   ]
  },
  {
   "cell_type": "markdown",
   "metadata": {},
   "source": [
    "_aanmaken van de volgende subtabellen:_\n",
    "> - periods <br>\n",
    "> - customer suppliers <br>\n",
    "> - vatcodes <br>\n",
    "> - generalLedger <br>\n",
    "> - basics<br>"
   ]
  },
  {
   "cell_type": "code",
   "execution_count": 18,
   "metadata": {
    "slideshow": {
     "slide_type": "subslide"
    }
   },
   "outputs": [],
   "source": [
    "periods = stamtabellen(company.findall('af:periods/af:period',namespaces))\n",
    "custsup = stamtabellen(company.findall('af:customersSuppliers/af:customerSupplier',namespaces))\n",
    "vatcode = stamtabellen(company.findall('af:vatCodes/af:vatCode',namespaces))\n",
    "genledg  = stamtabellen(company.findall('af:generalLedger/af:ledgerAccount',namespaces))\n",
    "basics  = stamtabellen(company.findall('af:generalLedger/af:basics',namespaces))"
   ]
  },
  {
   "cell_type": "code",
   "execution_count": null,
   "metadata": {},
   "outputs": [],
   "source": []
  },
  {
   "cell_type": "code",
   "execution_count": 19,
   "metadata": {},
   "outputs": [
    {
     "data": {
      "text/html": [
       "<div>\n",
       "<style scoped>\n",
       "    .dataframe tbody tr th:only-of-type {\n",
       "        vertical-align: middle;\n",
       "    }\n",
       "\n",
       "    .dataframe tbody tr th {\n",
       "        vertical-align: top;\n",
       "    }\n",
       "\n",
       "    .dataframe thead th {\n",
       "        text-align: right;\n",
       "    }\n",
       "</style>\n",
       "<table border=\"1\" class=\"dataframe\">\n",
       "  <thead>\n",
       "    <tr style=\"text-align: right;\">\n",
       "      <th></th>\n",
       "      <th>basicDesc</th>\n",
       "      <th>basicID</th>\n",
       "      <th>basicType</th>\n",
       "    </tr>\n",
       "  </thead>\n",
       "  <tbody>\n",
       "    <tr>\n",
       "      <th>0</th>\n",
       "      <td>OH tuinen op abonnement</td>\n",
       "      <td>U-INT-02</td>\n",
       "      <td>04</td>\n",
       "    </tr>\n",
       "  </tbody>\n",
       "</table>\n",
       "</div>"
      ],
      "text/plain": [
       "                 basicDesc   basicID basicType\n",
       "0  OH tuinen op abonnement  U-INT-02        04"
      ]
     },
     "execution_count": 19,
     "metadata": {},
     "output_type": "execute_result"
    },
    {
     "data": {
      "text/html": [
       "<div>\n",
       "<style scoped>\n",
       "    .dataframe tbody tr th:only-of-type {\n",
       "        vertical-align: middle;\n",
       "    }\n",
       "\n",
       "    .dataframe tbody tr th {\n",
       "        vertical-align: top;\n",
       "    }\n",
       "\n",
       "    .dataframe thead th {\n",
       "        text-align: right;\n",
       "    }\n",
       "</style>\n",
       "<table border=\"1\" class=\"dataframe\">\n",
       "  <thead>\n",
       "    <tr style=\"text-align: right;\">\n",
       "      <th></th>\n",
       "      <th>accDesc</th>\n",
       "      <th>accID</th>\n",
       "      <th>accTp</th>\n",
       "      <th>leadReference</th>\n",
       "    </tr>\n",
       "  </thead>\n",
       "  <tbody>\n",
       "    <tr>\n",
       "      <th>0</th>\n",
       "      <td>Bedrijfsgebouwen</td>\n",
       "      <td>0020</td>\n",
       "      <td>B</td>\n",
       "      <td>BMvaBegVvp</td>\n",
       "    </tr>\n",
       "    <tr>\n",
       "      <th>1</th>\n",
       "      <td>Bedrijfsterreinen</td>\n",
       "      <td>0025</td>\n",
       "      <td>B</td>\n",
       "      <td>BMvaBegVvp</td>\n",
       "    </tr>\n",
       "    <tr>\n",
       "      <th>2</th>\n",
       "      <td>Computers en software</td>\n",
       "      <td>0030</td>\n",
       "      <td>B</td>\n",
       "      <td>BMvaObeVvp</td>\n",
       "    </tr>\n",
       "    <tr>\n",
       "      <th>3</th>\n",
       "      <td>Machines en installaties</td>\n",
       "      <td>0035</td>\n",
       "      <td>B</td>\n",
       "      <td>BMvaObeVvp</td>\n",
       "    </tr>\n",
       "    <tr>\n",
       "      <th>4</th>\n",
       "      <td>Transportmiddelen</td>\n",
       "      <td>0040</td>\n",
       "      <td>B</td>\n",
       "      <td>BMvaTevVvp</td>\n",
       "    </tr>\n",
       "  </tbody>\n",
       "</table>\n",
       "</div>"
      ],
      "text/plain": [
       "                    accDesc accID accTp leadReference\n",
       "0          Bedrijfsgebouwen  0020     B    BMvaBegVvp\n",
       "1         Bedrijfsterreinen  0025     B    BMvaBegVvp\n",
       "2     Computers en software  0030     B    BMvaObeVvp\n",
       "3  Machines en installaties  0035     B    BMvaObeVvp\n",
       "4         Transportmiddelen  0040     B    BMvaTevVvp"
      ]
     },
     "execution_count": 19,
     "metadata": {},
     "output_type": "execute_result"
    },
    {
     "data": {
      "text/html": [
       "<div>\n",
       "<style scoped>\n",
       "    .dataframe tbody tr th:only-of-type {\n",
       "        vertical-align: middle;\n",
       "    }\n",
       "\n",
       "    .dataframe tbody tr th {\n",
       "        vertical-align: top;\n",
       "    }\n",
       "\n",
       "    .dataframe thead th {\n",
       "        text-align: right;\n",
       "    }\n",
       "</style>\n",
       "<table border=\"1\" class=\"dataframe\">\n",
       "  <thead>\n",
       "    <tr style=\"text-align: right;\">\n",
       "      <th></th>\n",
       "      <th>vatDesc</th>\n",
       "      <th>vatID</th>\n",
       "      <th>vatToClaimAccID</th>\n",
       "      <th>vatToPayAccID</th>\n",
       "    </tr>\n",
       "  </thead>\n",
       "  <tbody>\n",
       "    <tr>\n",
       "      <th>0</th>\n",
       "      <td>None</td>\n",
       "      <td>0</td>\n",
       "      <td>1710</td>\n",
       "      <td>1750</td>\n",
       "    </tr>\n",
       "    <tr>\n",
       "      <th>1</th>\n",
       "      <td>Laag tarief</td>\n",
       "      <td>1</td>\n",
       "      <td>1710</td>\n",
       "      <td>1760</td>\n",
       "    </tr>\n",
       "    <tr>\n",
       "      <th>2</th>\n",
       "      <td>Hoog tarief</td>\n",
       "      <td>2</td>\n",
       "      <td>1710</td>\n",
       "      <td>1770</td>\n",
       "    </tr>\n",
       "  </tbody>\n",
       "</table>\n",
       "</div>"
      ],
      "text/plain": [
       "       vatDesc vatID vatToClaimAccID vatToPayAccID\n",
       "0         None     0            1710          1750\n",
       "1  Laag tarief     1            1710          1760\n",
       "2  Hoog tarief     2            1710          1770"
      ]
     },
     "execution_count": 19,
     "metadata": {},
     "output_type": "execute_result"
    },
    {
     "data": {
      "text/html": [
       "<div>\n",
       "<style scoped>\n",
       "    .dataframe tbody tr th:only-of-type {\n",
       "        vertical-align: middle;\n",
       "    }\n",
       "\n",
       "    .dataframe tbody tr th {\n",
       "        vertical-align: top;\n",
       "    }\n",
       "\n",
       "    .dataframe thead th {\n",
       "        text-align: right;\n",
       "    }\n",
       "</style>\n",
       "<table border=\"1\" class=\"dataframe\">\n",
       "  <thead>\n",
       "    <tr style=\"text-align: right;\">\n",
       "      <th></th>\n",
       "      <th>endDatePeriod</th>\n",
       "      <th>endTimePeriod</th>\n",
       "      <th>periodDesc</th>\n",
       "      <th>periodNumber</th>\n",
       "      <th>startDatePeriod</th>\n",
       "      <th>startTimePeriod</th>\n",
       "    </tr>\n",
       "  </thead>\n",
       "  <tbody>\n",
       "    <tr>\n",
       "      <th>0</th>\n",
       "      <td>2017-01-31</td>\n",
       "      <td>23:59:59+00:00</td>\n",
       "      <td>None</td>\n",
       "      <td>1</td>\n",
       "      <td>2017-01-01</td>\n",
       "      <td>00:00:00+00:00</td>\n",
       "    </tr>\n",
       "    <tr>\n",
       "      <th>1</th>\n",
       "      <td>2017-02-28</td>\n",
       "      <td>23:59:59+00:00</td>\n",
       "      <td>None</td>\n",
       "      <td>2</td>\n",
       "      <td>2017-02-01</td>\n",
       "      <td>00:00:00+00:00</td>\n",
       "    </tr>\n",
       "    <tr>\n",
       "      <th>2</th>\n",
       "      <td>2017-03-31</td>\n",
       "      <td>23:59:59+00:00</td>\n",
       "      <td>None</td>\n",
       "      <td>3</td>\n",
       "      <td>2017-03-01</td>\n",
       "      <td>00:00:00+00:00</td>\n",
       "    </tr>\n",
       "    <tr>\n",
       "      <th>3</th>\n",
       "      <td>2017-04-30</td>\n",
       "      <td>23:59:59+00:00</td>\n",
       "      <td>None</td>\n",
       "      <td>4</td>\n",
       "      <td>2017-04-01</td>\n",
       "      <td>00:00:00+00:00</td>\n",
       "    </tr>\n",
       "    <tr>\n",
       "      <th>4</th>\n",
       "      <td>2017-05-31</td>\n",
       "      <td>23:59:59+00:00</td>\n",
       "      <td>None</td>\n",
       "      <td>5</td>\n",
       "      <td>2017-05-01</td>\n",
       "      <td>00:00:00+00:00</td>\n",
       "    </tr>\n",
       "  </tbody>\n",
       "</table>\n",
       "</div>"
      ],
      "text/plain": [
       "  endDatePeriod   endTimePeriod periodDesc periodNumber startDatePeriod  \\\n",
       "0    2017-01-31  23:59:59+00:00       None            1      2017-01-01   \n",
       "1    2017-02-28  23:59:59+00:00       None            2      2017-02-01   \n",
       "2    2017-03-31  23:59:59+00:00       None            3      2017-03-01   \n",
       "3    2017-04-30  23:59:59+00:00       None            4      2017-04-01   \n",
       "4    2017-05-31  23:59:59+00:00       None            5      2017-05-01   \n",
       "\n",
       "  startTimePeriod  \n",
       "0  00:00:00+00:00  \n",
       "1  00:00:00+00:00  \n",
       "2  00:00:00+00:00  \n",
       "3  00:00:00+00:00  \n",
       "4  00:00:00+00:00  "
      ]
     },
     "execution_count": 19,
     "metadata": {},
     "output_type": "execute_result"
    },
    {
     "data": {
      "text/html": [
       "<div>\n",
       "<style scoped>\n",
       "    .dataframe tbody tr th:only-of-type {\n",
       "        vertical-align: middle;\n",
       "    }\n",
       "\n",
       "    .dataframe tbody tr th {\n",
       "        vertical-align: top;\n",
       "    }\n",
       "\n",
       "    .dataframe thead th {\n",
       "        text-align: right;\n",
       "    }\n",
       "</style>\n",
       "<table border=\"1\" class=\"dataframe\">\n",
       "  <thead>\n",
       "    <tr style=\"text-align: right;\">\n",
       "      <th></th>\n",
       "      <th>bankAccNr</th>\n",
       "      <th>bankIdCd</th>\n",
       "      <th>city</th>\n",
       "      <th>contact</th>\n",
       "      <th>country</th>\n",
       "      <th>custSupID</th>\n",
       "      <th>custSupName</th>\n",
       "      <th>eMail</th>\n",
       "      <th>fax</th>\n",
       "      <th>postalCode</th>\n",
       "      <th>streetname</th>\n",
       "      <th>taxRegistrationCountry</th>\n",
       "      <th>telephone</th>\n",
       "      <th>website</th>\n",
       "    </tr>\n",
       "  </thead>\n",
       "  <tbody>\n",
       "    <tr>\n",
       "      <th>0</th>\n",
       "      <td>0343022443</td>\n",
       "      <td>DORDRECHT</td>\n",
       "      <td>DORDRECHT</td>\n",
       "      <td>de heer J.A.M. van Bekkerem</td>\n",
       "      <td>NaN</td>\n",
       "      <td>D1001</td>\n",
       "      <td>Van Bekkerem B.V.</td>\n",
       "      <td>info@bekkerem.nl</td>\n",
       "      <td>078-6230231</td>\n",
       "      <td>2369 WE</td>\n",
       "      <td>Lorenzkade 39</td>\n",
       "      <td>NL</td>\n",
       "      <td>078-6230230</td>\n",
       "      <td>www.bekkerem.nl</td>\n",
       "    </tr>\n",
       "    <tr>\n",
       "      <th>1</th>\n",
       "      <td>102028</td>\n",
       "      <td>LEIDEN</td>\n",
       "      <td>LEIDEN</td>\n",
       "      <td>Mevr. M. van der Laan</td>\n",
       "      <td>NaN</td>\n",
       "      <td>D1002</td>\n",
       "      <td>Fa. Brokma Blokhutten v/h Gebr. Brokma</td>\n",
       "      <td>info@brokma-transport.nl</td>\n",
       "      <td>071-8936925</td>\n",
       "      <td>2346 GF</td>\n",
       "      <td>Frederik Hendrikplantsoen 23</td>\n",
       "      <td>NL</td>\n",
       "      <td>071-8950501</td>\n",
       "      <td>www.brokma-transport.nl</td>\n",
       "    </tr>\n",
       "    <tr>\n",
       "      <th>2</th>\n",
       "      <td>0159202078</td>\n",
       "      <td>HILVERSUM</td>\n",
       "      <td>HILVERSUM</td>\n",
       "      <td>Hr. B.R. van Haaften sr</td>\n",
       "      <td>NaN</td>\n",
       "      <td>D1003</td>\n",
       "      <td>Van Haaften International B.V.</td>\n",
       "      <td>marketing@vanhaaften.com</td>\n",
       "      <td>055-2229346</td>\n",
       "      <td>5600 AJ</td>\n",
       "      <td>Postbus 123</td>\n",
       "      <td>NL</td>\n",
       "      <td>055-2225553</td>\n",
       "      <td>www.vanhaaften.com</td>\n",
       "    </tr>\n",
       "    <tr>\n",
       "      <th>3</th>\n",
       "      <td>0123456789</td>\n",
       "      <td>ARLINGTON</td>\n",
       "      <td>ARLINGTON</td>\n",
       "      <td>Mr. Dave McFarland</td>\n",
       "      <td>US</td>\n",
       "      <td>D1004</td>\n",
       "      <td>Garden Impressions Beverly</td>\n",
       "      <td>NaN</td>\n",
       "      <td>0932-45667555</td>\n",
       "      <td>22121</td>\n",
       "      <td>345 New Upshurstreet</td>\n",
       "      <td>NaN</td>\n",
       "      <td>0932-45667564</td>\n",
       "      <td>NaN</td>\n",
       "    </tr>\n",
       "    <tr>\n",
       "      <th>4</th>\n",
       "      <td>1643124111</td>\n",
       "      <td>KARLSRUHE</td>\n",
       "      <td>KARLSRUHE</td>\n",
       "      <td>Herr Jozef von Weitzecker</td>\n",
       "      <td>DE</td>\n",
       "      <td>D1005</td>\n",
       "      <td>Gartencenter Löwenbrau</td>\n",
       "      <td>NaN</td>\n",
       "      <td>0928-234987222</td>\n",
       "      <td>245583</td>\n",
       "      <td>Dortmunderstrasse 20-40</td>\n",
       "      <td>DE</td>\n",
       "      <td>0928-234987987</td>\n",
       "      <td>NaN</td>\n",
       "    </tr>\n",
       "  </tbody>\n",
       "</table>\n",
       "</div>"
      ],
      "text/plain": [
       "    bankAccNr   bankIdCd       city                      contact country  \\\n",
       "0  0343022443  DORDRECHT  DORDRECHT  de heer J.A.M. van Bekkerem     NaN   \n",
       "1      102028     LEIDEN     LEIDEN        Mevr. M. van der Laan     NaN   \n",
       "2  0159202078  HILVERSUM  HILVERSUM      Hr. B.R. van Haaften sr     NaN   \n",
       "3  0123456789  ARLINGTON  ARLINGTON           Mr. Dave McFarland      US   \n",
       "4  1643124111  KARLSRUHE  KARLSRUHE    Herr Jozef von Weitzecker      DE   \n",
       "\n",
       "  custSupID                             custSupName                     eMail  \\\n",
       "0     D1001                       Van Bekkerem B.V.          info@bekkerem.nl   \n",
       "1     D1002  Fa. Brokma Blokhutten v/h Gebr. Brokma  info@brokma-transport.nl   \n",
       "2     D1003          Van Haaften International B.V.  marketing@vanhaaften.com   \n",
       "3     D1004              Garden Impressions Beverly                       NaN   \n",
       "4     D1005                  Gartencenter Löwenbrau                       NaN   \n",
       "\n",
       "              fax postalCode                    streetname  \\\n",
       "0     078-6230231    2369 WE                 Lorenzkade 39   \n",
       "1     071-8936925    2346 GF  Frederik Hendrikplantsoen 23   \n",
       "2     055-2229346    5600 AJ                   Postbus 123   \n",
       "3   0932-45667555      22121          345 New Upshurstreet   \n",
       "4  0928-234987222     245583       Dortmunderstrasse 20-40   \n",
       "\n",
       "  taxRegistrationCountry       telephone                  website  \n",
       "0                     NL     078-6230230          www.bekkerem.nl  \n",
       "1                     NL     071-8950501  www.brokma-transport.nl  \n",
       "2                     NL     055-2225553       www.vanhaaften.com  \n",
       "3                    NaN   0932-45667564                      NaN  \n",
       "4                     DE  0928-234987987                      NaN  "
      ]
     },
     "execution_count": 19,
     "metadata": {},
     "output_type": "execute_result"
    }
   ],
   "source": [
    "basics.head()\n",
    "genledg.head()\n",
    "vatcode.head()\n",
    "periods.head()\n",
    "custsup.head()"
   ]
  },
  {
   "cell_type": "markdown",
   "metadata": {
    "slideshow": {
     "slide_type": "subslide"
    }
   },
   "source": [
    "### 3.4 Parsen van data van de journals"
   ]
  },
  {
   "cell_type": "code",
   "execution_count": 20,
   "metadata": {},
   "outputs": [],
   "source": [
    "journals = company.findall('af:transactions/af:journal', namespaces)\n",
    "journal_df = pd.DataFrame()\n",
    "\n",
    "for journal in journals:\n",
    "    jrninfo = dict()\n",
    "    \n",
    "    for records in journal:\n",
    "        if len(records) == 0:\n",
    "            columnnames = records.tag.replace(ns,'')\n",
    "            columnvalues = records.text\n",
    "            jrninfo[columnnames] = columnvalues\n",
    "    journal_df = journal_df.append(jrninfo, ignore_index = True)"
   ]
  },
  {
   "cell_type": "code",
   "execution_count": 21,
   "metadata": {},
   "outputs": [
    {
     "data": {
      "text/html": [
       "<div>\n",
       "<style scoped>\n",
       "    .dataframe tbody tr th:only-of-type {\n",
       "        vertical-align: middle;\n",
       "    }\n",
       "\n",
       "    .dataframe tbody tr th {\n",
       "        vertical-align: top;\n",
       "    }\n",
       "\n",
       "    .dataframe thead th {\n",
       "        text-align: right;\n",
       "    }\n",
       "</style>\n",
       "<table border=\"1\" class=\"dataframe\">\n",
       "  <thead>\n",
       "    <tr style=\"text-align: right;\">\n",
       "      <th></th>\n",
       "      <th>desc</th>\n",
       "      <th>jrnID</th>\n",
       "      <th>jrnTp</th>\n",
       "      <th>offsetAccID</th>\n",
       "      <th>bankAccNr</th>\n",
       "    </tr>\n",
       "  </thead>\n",
       "  <tbody>\n",
       "    <tr>\n",
       "      <th>0</th>\n",
       "      <td>Activadagboek</td>\n",
       "      <td>A</td>\n",
       "      <td>Z</td>\n",
       "      <td>2017</td>\n",
       "      <td>NaN</td>\n",
       "    </tr>\n",
       "    <tr>\n",
       "      <th>1</th>\n",
       "      <td>ABN AMRO BANK</td>\n",
       "      <td>AA</td>\n",
       "      <td>B</td>\n",
       "      <td>1200</td>\n",
       "      <td>614973465</td>\n",
       "    </tr>\n",
       "    <tr>\n",
       "      <th>2</th>\n",
       "      <td>Inkoopboek</td>\n",
       "      <td>I</td>\n",
       "      <td>P</td>\n",
       "      <td>7090</td>\n",
       "      <td>NaN</td>\n",
       "    </tr>\n",
       "    <tr>\n",
       "      <th>3</th>\n",
       "      <td>ING BANK</td>\n",
       "      <td>ING</td>\n",
       "      <td>B</td>\n",
       "      <td>1110</td>\n",
       "      <td>661262286</td>\n",
       "    </tr>\n",
       "    <tr>\n",
       "      <th>4</th>\n",
       "      <td>Inkooporders</td>\n",
       "      <td>IO</td>\n",
       "      <td>P</td>\n",
       "      <td>3090</td>\n",
       "      <td>NaN</td>\n",
       "    </tr>\n",
       "    <tr>\n",
       "      <th>5</th>\n",
       "      <td>Kasboek</td>\n",
       "      <td>K</td>\n",
       "      <td>C</td>\n",
       "      <td>1000</td>\n",
       "      <td>NaN</td>\n",
       "    </tr>\n",
       "    <tr>\n",
       "      <th>6</th>\n",
       "      <td>Memoriaalboek</td>\n",
       "      <td>M</td>\n",
       "      <td>M</td>\n",
       "      <td>2000</td>\n",
       "      <td>NaN</td>\n",
       "    </tr>\n",
       "    <tr>\n",
       "      <th>7</th>\n",
       "      <td>Memoriaal Projecten</td>\n",
       "      <td>MPR</td>\n",
       "      <td>M</td>\n",
       "      <td>2000</td>\n",
       "      <td>NaN</td>\n",
       "    </tr>\n",
       "    <tr>\n",
       "      <th>8</th>\n",
       "      <td>Verkoopboek</td>\n",
       "      <td>V</td>\n",
       "      <td>S</td>\n",
       "      <td>8090</td>\n",
       "      <td>NaN</td>\n",
       "    </tr>\n",
       "    <tr>\n",
       "      <th>9</th>\n",
       "      <td>Voorraad goederenontvangst</td>\n",
       "      <td>VGO</td>\n",
       "      <td>Z</td>\n",
       "      <td>2020</td>\n",
       "      <td>NaN</td>\n",
       "    </tr>\n",
       "    <tr>\n",
       "      <th>10</th>\n",
       "      <td>Voorraadmutaties</td>\n",
       "      <td>VMU</td>\n",
       "      <td>Z</td>\n",
       "      <td>2020</td>\n",
       "      <td>NaN</td>\n",
       "    </tr>\n",
       "  </tbody>\n",
       "</table>\n",
       "</div>"
      ],
      "text/plain": [
       "                          desc jrnID jrnTp offsetAccID  bankAccNr\n",
       "0                Activadagboek     A     Z        2017        NaN\n",
       "1                ABN AMRO BANK    AA     B        1200  614973465\n",
       "2                   Inkoopboek     I     P        7090        NaN\n",
       "3                     ING BANK   ING     B        1110  661262286\n",
       "4                 Inkooporders    IO     P        3090        NaN\n",
       "5                      Kasboek     K     C        1000        NaN\n",
       "6                Memoriaalboek     M     M        2000        NaN\n",
       "7          Memoriaal Projecten   MPR     M        2000        NaN\n",
       "8                  Verkoopboek     V     S        8090        NaN\n",
       "9   Voorraad goederenontvangst   VGO     Z        2020        NaN\n",
       "10            Voorraadmutaties   VMU     Z        2020        NaN"
      ]
     },
     "execution_count": 21,
     "metadata": {},
     "output_type": "execute_result"
    }
   ],
   "source": [
    "journal_df"
   ]
  },
  {
   "cell_type": "markdown",
   "metadata": {
    "slideshow": {
     "slide_type": "subslide"
    }
   },
   "source": [
    "### 3.5 Parsen van de transactions in de journals\n",
    "In de journals zitten meerdere transactions. we willen van alle journals alle transactions hebben:\n",
    "> journal 1 <br>\n",
    "> journal 2 <br>\n",
    "> journal 3 <br>\n",
    ">> transaction 1 <br>\n",
    ">> transaction 2 <br>\n",
    ">> transaction 3 <br>\n",
    ">>> transactionline 1  <font color='green'>kolomnamen, kolomnwaardes</font> <br>\n",
    ">>> transactionline 2  <font color='green'>kolomnamen, kolomnwaardes</font> <br>\n",
    ">>> transactionline 3  <font color='green'>kolomnamen, kolomnwaardes</font> <br>\n"
   ]
  },
  {
   "cell_type": "code",
   "execution_count": 22,
   "metadata": {
    "slideshow": {
     "slide_type": "subslide"
    }
   },
   "outputs": [],
   "source": [
    "transactions_df = pd.DataFrame()\n",
    "\n",
    "total_records = list()\n",
    "record_dict = dict()\n",
    "\n",
    "for journal in journals:\n",
    "\n",
    "    \n",
    "    for records in journal:\n",
    "        \n",
    "        if len(records) == 0:\n",
    "            columnnames = records.tag.replace(ns,'')\n",
    "            columnvalues = records.text\n",
    "            record_dict[columnnames] = columnvalues\n",
    "\n",
    "        else:\n",
    "            for record in records:\n",
    "                if len(record) == 0:\n",
    "                    columnnames = record.tag.replace(ns,'')\n",
    "                    columnvalues = record.text\n",
    "                    record_dict[columnnames] = columnvalues\n",
    "\n",
    "                else:\n",
    "\n",
    "                    for subfields in record:\n",
    "                        if len(subfields) == 0:\n",
    "                            columnnames = subfields.tag.replace(ns,'')\n",
    "                            columnvalues = subfields.text\n",
    "                            record_dict[columnnames] = columnvalues\n",
    "\n",
    "                        else: \n",
    "\n",
    "                            for subfields_1 in subfields:\n",
    "                                if len(subfields_1) == 0:\n",
    "                                    columnnames = subfields_1.tag.replace(ns,'')\n",
    "                                    columnvalues = subfields_1.text\n",
    "                                    record_dict[columnnames] = columnvalues\n",
    "                                else : print('nog een sublaag!')\n",
    "\n",
    "                    \n",
    "                    total_records.append(record_dict.copy())\n",
    "\n",
    "transactions_df = transactions_df.append(total_records, ignore_index = True)\n"
   ]
  },
  {
   "cell_type": "code",
   "execution_count": 23,
   "metadata": {},
   "outputs": [],
   "source": [
    "# transactions_df.head()\n",
    "# transactions_df.describe()\n",
    "# transactions_df.dtypes"
   ]
  },
  {
   "cell_type": "markdown",
   "metadata": {
    "slideshow": {
     "slide_type": "slide"
    }
   },
   "source": [
    "***\n",
    "# 4. Auditfile preppen"
   ]
  },
  {
   "cell_type": "markdown",
   "metadata": {
    "slideshow": {
     "slide_type": "subslide"
    }
   },
   "source": [
    "### 4.1 Journals voorzien van dagboektype\n",
    "_classificeer dagboektype van de journals dataframe_"
   ]
  },
  {
   "cell_type": "code",
   "execution_count": 24,
   "metadata": {},
   "outputs": [],
   "source": [
    "journaltype(journal_df)\n",
    "journal_df = journal_df.drop(['jrnTp'] , axis = 1)"
   ]
  },
  {
   "cell_type": "markdown",
   "metadata": {},
   "source": [
    "### 4.2 accounttype toevoegen aan general ledger\n"
   ]
  },
  {
   "cell_type": "code",
   "execution_count": 25,
   "metadata": {},
   "outputs": [],
   "source": [
    "accounttype(genledg)"
   ]
  },
  {
   "cell_type": "markdown",
   "metadata": {},
   "source": [
    "### 4.3 Transacties het juiste dataformat geven\n",
    "_aanmaken van nieuwe velden en aanpassen van datatypes_"
   ]
  },
  {
   "cell_type": "code",
   "execution_count": 26,
   "metadata": {
    "scrolled": true
   },
   "outputs": [],
   "source": [
    "tr = transactions_df\n",
    "\n",
    "amount(transactions_df)\n",
    "tr['effDate'] = pd.to_datetime(transactions_df['effDate'])\n",
    "tr['trDt'] = pd.to_datetime(transactions_df['trDt'])\n",
    "\n",
    "if 'vatAmnt' in tr.columns:\n",
    "    vat_amount(transactions_df)\n",
    "    tr = tr.drop(['amnt', 'amntTp', 'vatAmnt', 'vatAmntTp'], axis=1)\n",
    "else:\n",
    "    print('geen vat amount!')\n"
   ]
  },
  {
   "cell_type": "markdown",
   "metadata": {},
   "source": [
    "_verwijder kolommen die we niet meer nodig hebben:_"
   ]
  },
  {
   "cell_type": "markdown",
   "metadata": {
    "slideshow": {
     "slide_type": "slide"
    }
   },
   "source": [
    "### 4.3 Tabellen aan elkaar koppelen\n",
    "_De volgende stamtabellen worden aan elkaar gelinkt op unieke ID_\n",
    "   1. periods\n",
    "   2. vatcodes\n",
    "   3. customers suppliers\n",
    "   4. general ledger\n",
    "   5. journalinfo\n",
    "   6. auditfile info\n",
    "   "
   ]
  },
  {
   "cell_type": "code",
   "execution_count": 27,
   "metadata": {
    "scrolled": true,
    "slideshow": {
     "slide_type": "slide"
    }
   },
   "outputs": [
    {
     "name": "stdout",
     "output_type": "stream",
     "text": [
      "length before joins:                     371        number of columns: 22 \n",
      "\n",
      "length after join periods:               371        number of columns: 27\n",
      "length after join vatcodes:              371        number of columns: 30\n",
      "length after join customersuppliers:     371        number of columns: 44\n",
      "length after join generalledger:         371        number of columns: 48\n",
      "length after join journal:               371        number of columns: 53\n"
     ]
    }
   ],
   "source": [
    "print('length before joins:'.ljust(40), str(len(tr)).ljust(10), 'number of columns:', len(tr.columns), '\\n')\n",
    "\n",
    "# join met periods\n",
    "\n",
    "temp_1 = pd.merge(tr, periods, on ='periodNumber', how='left')\n",
    "print('length after join periods:'.ljust(40), str(len(temp_1)).ljust(10), 'number of columns:', len(temp_1.columns))\n",
    "\n",
    "# join met vatcodes\n",
    "\n",
    "temp_2 = pd.merge(temp_1, vatcode, on='vatID', how='left')\n",
    "print('length after join vatcodes:'.ljust(40), str(len(temp_2)).ljust(10), 'number of columns:', len(temp_2.columns))\n",
    "\n",
    "# join met customersuppliers\n",
    "\n",
    "temp_3 = pd.merge(temp_2, custsup.add_prefix('cs_'), left_on='custSupID' , right_on = 'cs_custSupID', how='left')\n",
    "print('length after join customersuppliers:'.ljust(40), str(len(temp_3)).ljust(10), 'number of columns:', len(temp_3.columns))\n",
    "\n",
    "# join met generalLedger\n",
    "\n",
    "temp_4 = pd.merge(temp_3, genledg, on='accID' , how='left')\n",
    "print('length after join generalledger:'.ljust(40), str(len(temp_4)).ljust(10), 'number of columns:', len(temp_4.columns))\n",
    "\n",
    "\n",
    "# join met journalinfo\n",
    "\n",
    "temp_5= pd.merge(temp_4, journal_df.add_prefix('jrn_'),left_on = 'jrnID', right_on='jrn_jrnID' , how='left')\n",
    "print('length after join journal:'.ljust(40), str(len(temp_5)).ljust(10), 'number of columns:', len(temp_5.columns))\n",
    "\n",
    "# join met auditfile info\n",
    "\n",
    "# temp_6= pd.merge(temp_5, af_info.add_prefix('info_'), on = None ,how='inner')\n",
    "# print('length after join journal:'.ljust(40), str(len(temp_6)).ljust(10), 'number of columns:', len(temp_6.columns))\n",
    "\n",
    "\n",
    "auditfile = temp_5\n"
   ]
  },
  {
   "cell_type": "code",
   "execution_count": 28,
   "metadata": {
    "scrolled": false
   },
   "outputs": [
    {
     "data": {
      "text/html": [
       "<div>\n",
       "<style scoped>\n",
       "    .dataframe tbody tr th:only-of-type {\n",
       "        vertical-align: middle;\n",
       "    }\n",
       "\n",
       "    .dataframe tbody tr th {\n",
       "        vertical-align: top;\n",
       "    }\n",
       "\n",
       "    .dataframe thead th {\n",
       "        text-align: right;\n",
       "    }\n",
       "</style>\n",
       "<table border=\"1\" class=\"dataframe\">\n",
       "  <thead>\n",
       "    <tr style=\"text-align: right;\">\n",
       "      <th></th>\n",
       "      <th>curCode</th>\n",
       "      <th>dateCreated</th>\n",
       "      <th>endDate</th>\n",
       "      <th>fiscalYear</th>\n",
       "      <th>softwareDesc</th>\n",
       "      <th>softwareVersion</th>\n",
       "      <th>startDate</th>\n",
       "      <th>companyIdent</th>\n",
       "      <th>companyName</th>\n",
       "      <th>taxRegIdent</th>\n",
       "      <th>taxRegistrationCountry</th>\n",
       "      <th>linesCount</th>\n",
       "      <th>totalCredit</th>\n",
       "      <th>totalDebit</th>\n",
       "    </tr>\n",
       "  </thead>\n",
       "  <tbody>\n",
       "    <tr>\n",
       "      <th>0</th>\n",
       "      <td>EUR</td>\n",
       "      <td>2017-05-08</td>\n",
       "      <td>2017-12-31</td>\n",
       "      <td>2017</td>\n",
       "      <td>Unit4 Multivers</td>\n",
       "      <td>10.9.2658.33026</td>\n",
       "      <td>2017-01-01</td>\n",
       "      <td>MVL00003</td>\n",
       "      <td>Demonstratiebedrijf Homegarden</td>\n",
       "      <td>004532016</td>\n",
       "      <td>NL</td>\n",
       "      <td>371</td>\n",
       "      <td>135836.32</td>\n",
       "      <td>135836.32</td>\n",
       "    </tr>\n",
       "  </tbody>\n",
       "</table>\n",
       "</div>"
      ],
      "text/plain": [
       "  curCode dateCreated     endDate fiscalYear     softwareDesc  \\\n",
       "0     EUR  2017-05-08  2017-12-31       2017  Unit4 Multivers   \n",
       "\n",
       "   softwareVersion   startDate companyIdent                     companyName  \\\n",
       "0  10.9.2658.33026  2017-01-01     MVL00003  Demonstratiebedrijf Homegarden   \n",
       "\n",
       "  taxRegIdent taxRegistrationCountry linesCount totalCredit totalDebit  \n",
       "0   004532016                     NL        371   135836.32  135836.32  "
      ]
     },
     "execution_count": 28,
     "metadata": {},
     "output_type": "execute_result"
    }
   ],
   "source": [
    "af_info\n",
    "\n",
    "#af_info_formatted = "
   ]
  },
  {
   "cell_type": "code",
   "execution_count": 29,
   "metadata": {},
   "outputs": [
    {
     "data": {
      "text/plain": [
       "'2017-05-08'"
      ]
     },
     "execution_count": 29,
     "metadata": {},
     "output_type": "execute_result"
    }
   ],
   "source": [
    "af_info.iloc[0][\"dateCreated\"]"
   ]
  },
  {
   "cell_type": "code",
   "execution_count": 30,
   "metadata": {
    "scrolled": true
   },
   "outputs": [
    {
     "data": {
      "text/html": [
       "<div>\n",
       "<style scoped>\n",
       "    .dataframe tbody tr th:only-of-type {\n",
       "        vertical-align: middle;\n",
       "    }\n",
       "\n",
       "    .dataframe tbody tr th {\n",
       "        vertical-align: top;\n",
       "    }\n",
       "\n",
       "    .dataframe thead th {\n",
       "        text-align: right;\n",
       "    }\n",
       "</style>\n",
       "<table border=\"1\" class=\"dataframe\">\n",
       "  <thead>\n",
       "    <tr style=\"text-align: right;\">\n",
       "      <th></th>\n",
       "      <th>accID</th>\n",
       "      <th>bankAccNr</th>\n",
       "      <th>costID</th>\n",
       "      <th>curAmnt</th>\n",
       "      <th>curCode</th>\n",
       "      <th>custSupID</th>\n",
       "      <th>desc</th>\n",
       "      <th>docRef</th>\n",
       "      <th>effDate</th>\n",
       "      <th>invRef</th>\n",
       "      <th>...</th>\n",
       "      <th>softwareDesc</th>\n",
       "      <th>softwareVersion</th>\n",
       "      <th>startDate</th>\n",
       "      <th>companyIdent</th>\n",
       "      <th>companyName</th>\n",
       "      <th>taxRegIdent</th>\n",
       "      <th>taxRegistrationCountry</th>\n",
       "      <th>linesCount</th>\n",
       "      <th>totalCredit</th>\n",
       "      <th>totalDebit</th>\n",
       "    </tr>\n",
       "  </thead>\n",
       "  <tbody>\n",
       "    <tr>\n",
       "      <th>0</th>\n",
       "      <td>4820</td>\n",
       "      <td>NaN</td>\n",
       "      <td>NaN</td>\n",
       "      <td>NaN</td>\n",
       "      <td>EUR</td>\n",
       "      <td>NaN</td>\n",
       "      <td>020 Bedrijfsgebouwen</td>\n",
       "      <td>1</td>\n",
       "      <td>2017-01-31</td>\n",
       "      <td>NaN</td>\n",
       "      <td>...</td>\n",
       "      <td>Unit4 Multivers</td>\n",
       "      <td>10.9.2658.33026</td>\n",
       "      <td>2017-01-01</td>\n",
       "      <td>MVL00003</td>\n",
       "      <td>Demonstratiebedrijf Homegarden</td>\n",
       "      <td>004532016</td>\n",
       "      <td>NL</td>\n",
       "      <td>371</td>\n",
       "      <td>135836.32</td>\n",
       "      <td>135836.32</td>\n",
       "    </tr>\n",
       "    <tr>\n",
       "      <th>1</th>\n",
       "      <td>0120</td>\n",
       "      <td>NaN</td>\n",
       "      <td>NaN</td>\n",
       "      <td>NaN</td>\n",
       "      <td>EUR</td>\n",
       "      <td>NaN</td>\n",
       "      <td>Automat. afschrijving per. 1</td>\n",
       "      <td>2</td>\n",
       "      <td>2017-01-31</td>\n",
       "      <td>NaN</td>\n",
       "      <td>...</td>\n",
       "      <td>Unit4 Multivers</td>\n",
       "      <td>10.9.2658.33026</td>\n",
       "      <td>2017-01-01</td>\n",
       "      <td>MVL00003</td>\n",
       "      <td>Demonstratiebedrijf Homegarden</td>\n",
       "      <td>004532016</td>\n",
       "      <td>NL</td>\n",
       "      <td>371</td>\n",
       "      <td>135836.32</td>\n",
       "      <td>135836.32</td>\n",
       "    </tr>\n",
       "    <tr>\n",
       "      <th>2</th>\n",
       "      <td>4830</td>\n",
       "      <td>NaN</td>\n",
       "      <td>NaN</td>\n",
       "      <td>NaN</td>\n",
       "      <td>EUR</td>\n",
       "      <td>NaN</td>\n",
       "      <td>030 Computers en software</td>\n",
       "      <td>1</td>\n",
       "      <td>2017-01-31</td>\n",
       "      <td>NaN</td>\n",
       "      <td>...</td>\n",
       "      <td>Unit4 Multivers</td>\n",
       "      <td>10.9.2658.33026</td>\n",
       "      <td>2017-01-01</td>\n",
       "      <td>MVL00003</td>\n",
       "      <td>Demonstratiebedrijf Homegarden</td>\n",
       "      <td>004532016</td>\n",
       "      <td>NL</td>\n",
       "      <td>371</td>\n",
       "      <td>135836.32</td>\n",
       "      <td>135836.32</td>\n",
       "    </tr>\n",
       "    <tr>\n",
       "      <th>3</th>\n",
       "      <td>0130</td>\n",
       "      <td>NaN</td>\n",
       "      <td>NaN</td>\n",
       "      <td>NaN</td>\n",
       "      <td>EUR</td>\n",
       "      <td>NaN</td>\n",
       "      <td>Automat. afschrijving per. 1</td>\n",
       "      <td>2</td>\n",
       "      <td>2017-01-31</td>\n",
       "      <td>NaN</td>\n",
       "      <td>...</td>\n",
       "      <td>Unit4 Multivers</td>\n",
       "      <td>10.9.2658.33026</td>\n",
       "      <td>2017-01-01</td>\n",
       "      <td>MVL00003</td>\n",
       "      <td>Demonstratiebedrijf Homegarden</td>\n",
       "      <td>004532016</td>\n",
       "      <td>NL</td>\n",
       "      <td>371</td>\n",
       "      <td>135836.32</td>\n",
       "      <td>135836.32</td>\n",
       "    </tr>\n",
       "    <tr>\n",
       "      <th>4</th>\n",
       "      <td>4835</td>\n",
       "      <td>NaN</td>\n",
       "      <td>NaN</td>\n",
       "      <td>NaN</td>\n",
       "      <td>EUR</td>\n",
       "      <td>NaN</td>\n",
       "      <td>035 Machines en installaties</td>\n",
       "      <td>1</td>\n",
       "      <td>2017-01-31</td>\n",
       "      <td>NaN</td>\n",
       "      <td>...</td>\n",
       "      <td>Unit4 Multivers</td>\n",
       "      <td>10.9.2658.33026</td>\n",
       "      <td>2017-01-01</td>\n",
       "      <td>MVL00003</td>\n",
       "      <td>Demonstratiebedrijf Homegarden</td>\n",
       "      <td>004532016</td>\n",
       "      <td>NL</td>\n",
       "      <td>371</td>\n",
       "      <td>135836.32</td>\n",
       "      <td>135836.32</td>\n",
       "    </tr>\n",
       "  </tbody>\n",
       "</table>\n",
       "<p>5 rows × 66 columns</p>\n",
       "</div>"
      ],
      "text/plain": [
       "  accID bankAccNr costID curAmnt curCode custSupID  \\\n",
       "0  4820       NaN    NaN     NaN     EUR       NaN   \n",
       "1  0120       NaN    NaN     NaN     EUR       NaN   \n",
       "2  4830       NaN    NaN     NaN     EUR       NaN   \n",
       "3  0130       NaN    NaN     NaN     EUR       NaN   \n",
       "4  4835       NaN    NaN     NaN     EUR       NaN   \n",
       "\n",
       "                           desc docRef    effDate invRef    ...      \\\n",
       "0          020 Bedrijfsgebouwen      1 2017-01-31    NaN    ...       \n",
       "1  Automat. afschrijving per. 1      2 2017-01-31    NaN    ...       \n",
       "2     030 Computers en software      1 2017-01-31    NaN    ...       \n",
       "3  Automat. afschrijving per. 1      2 2017-01-31    NaN    ...       \n",
       "4  035 Machines en installaties      1 2017-01-31    NaN    ...       \n",
       "\n",
       "      softwareDesc  softwareVersion   startDate companyIdent  \\\n",
       "0  Unit4 Multivers  10.9.2658.33026  2017-01-01     MVL00003   \n",
       "1  Unit4 Multivers  10.9.2658.33026  2017-01-01     MVL00003   \n",
       "2  Unit4 Multivers  10.9.2658.33026  2017-01-01     MVL00003   \n",
       "3  Unit4 Multivers  10.9.2658.33026  2017-01-01     MVL00003   \n",
       "4  Unit4 Multivers  10.9.2658.33026  2017-01-01     MVL00003   \n",
       "\n",
       "                      companyName taxRegIdent taxRegistrationCountry  \\\n",
       "0  Demonstratiebedrijf Homegarden   004532016                     NL   \n",
       "1  Demonstratiebedrijf Homegarden   004532016                     NL   \n",
       "2  Demonstratiebedrijf Homegarden   004532016                     NL   \n",
       "3  Demonstratiebedrijf Homegarden   004532016                     NL   \n",
       "4  Demonstratiebedrijf Homegarden   004532016                     NL   \n",
       "\n",
       "  linesCount totalCredit totalDebit  \n",
       "0        371   135836.32  135836.32  \n",
       "1        371   135836.32  135836.32  \n",
       "2        371   135836.32  135836.32  \n",
       "3        371   135836.32  135836.32  \n",
       "4        371   135836.32  135836.32  \n",
       "\n",
       "[5 rows x 66 columns]"
      ]
     },
     "execution_count": 30,
     "metadata": {},
     "output_type": "execute_result"
    }
   ],
   "source": [
    "columnnames = list(af_info)\n",
    "number_of_columns = len(columnnames)\n",
    "for column_name in columnnames:\n",
    "    auditfile[column_name] = af_info.iloc[0][column_name]\n",
    "    \n",
    "    \n",
    "auditfile.head()\n"
   ]
  },
  {
   "cell_type": "markdown",
   "metadata": {
    "slideshow": {
     "slide_type": "slide"
    }
   },
   "source": [
    "***\n",
    "# 5. Auditfile exporteren"
   ]
  },
  {
   "cell_type": "code",
   "execution_count": 31,
   "metadata": {
    "slideshow": {
     "slide_type": "subslide"
    }
   },
   "outputs": [],
   "source": [
    "writer = pd.ExcelWriter('auditfile.xlsx')\n",
    "auditfile.to_excel(writer, 'export_af')\n",
    "writer.save()"
   ]
  },
  {
   "cell_type": "code",
   "execution_count": null,
   "metadata": {},
   "outputs": [],
   "source": []
  },
  {
   "cell_type": "code",
   "execution_count": null,
   "metadata": {},
   "outputs": [],
   "source": []
  }
 ],
 "metadata": {
  "kernelspec": {
   "display_name": "Python 3",
   "language": "python",
   "name": "python3"
  },
  "language_info": {
   "codemirror_mode": {
    "name": "ipython",
    "version": 3
   },
   "file_extension": ".py",
   "mimetype": "text/x-python",
   "name": "python",
   "nbconvert_exporter": "python",
   "pygments_lexer": "ipython3",
   "version": "3.6.5"
  }
 },
 "nbformat": 4,
 "nbformat_minor": 2
}
