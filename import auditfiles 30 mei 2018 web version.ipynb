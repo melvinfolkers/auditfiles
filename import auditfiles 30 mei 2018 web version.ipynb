{
 "cells": [
  {
   "cell_type": "markdown",
   "metadata": {},
   "source": [
    "<img src=\"https://static.wixstatic.com/media/a9ca5e_825bd4d39e7d468faf735b801fa3dea4~mv2.png/v1/fill/w_1458,h_246,al_c,usm_0.66_1.00_0.01/a9ca5e_825bd4d39e7d468faf735b801fa3dea4~mv2.png\" width=\"400\">"
   ]
  },
  {
   "cell_type": "markdown",
   "metadata": {
    "slideshow": {
     "slide_type": "slide"
    }
   },
   "source": [
    "\n",
    " # <font color=black>__Notebook voor het importeren van 3.* auditfiles__</font>\n",
    "\n",
    " \n",
    " <font color=brown>__Auteur:__</font> Melvin Folkers (Yellow Stacks B.V.)<br>\n",
    " <font color=brown>__Versie:__</font> 24 mei 2018<br>\n",
    " <font color=brown>__Doel:__</font> Het importeren van auditfiles 3.* <br>\n",
    " ***\n",
    "\n",
    "__overzicht van paragrafen in deze notebook__\n",
    " > <font color=brown>__1. Parameters instellen__</font><br>\n",
    " \n",
    " > > 1.0 installeren van de benodigde bibliotheken<br>\n",
    " > 1.1 Notebook settings<br>\n",
    " > 1.2 Importeren van bibliotheken<br>\n",
    "\n",
    "  \n",
    " > <font color=brown>__2. functies__</font><br>\n",
    " > <font color=brown>__3. Auditfile tabellen importeren__</font><br>\n",
    " > <font color=brown>__4. Auditfile preppen__</font><br>\n",
    " ><font color=brown> __5. Auditfile exporteren__</font><br>\n",
    " "
   ]
  },
  {
   "cell_type": "markdown",
   "metadata": {},
   "source": [
    "__introductie__\n",
    "\n",
    "Het doel van deze notebook is om auditfiles van het type 3 om te zetten in een dataset van grootboekmutaties.<br> \n",
    "De grootboekmutaties worden voorzien van informatie van de relaties, btwcodes, grootboek,dagboek, -en bedrijfsinformatie. <br>\n",
    "In het script worden er ook validatiechecks gedaan op de ingelezen regels. <br>\n",
    "De mutaties worden vervolgens geexporteerd naar een excelbestand.\n",
    "\n",
    "Het script is gemaakt om __1 auditfile in te lezen__, ter demonstratie van wat python kan betekenen voor collega's werkzaam in de financiele branche (te denken aan: audit / tax / controlling).<br>\n",
    "Dit soort scripts kunnen doorontwikkeld worden opdat meer auditfiles tergelijk kunnen worden ingelezen.<br>\n",
    "Zorg ervoor dat wanneer je het script wil draaien, dat je de auditfile in dezelfde map zet als deze notebook.\n"
   ]
  },
  {
   "cell_type": "markdown",
   "metadata": {
    "slideshow": {
     "slide_type": "slide"
    }
   },
   "source": [
    "\n",
    "# 1. Parameters instellen"
   ]
  },
  {
   "cell_type": "markdown",
   "metadata": {},
   "source": [
    "als je voor de eerste keer jupyter notebook gebruikt moeten er nog wat bibliotheken (packages) geinstalleerd worden. Door onderstaande code te runnen met de Install parameter op <font color=\"green\">__True__</font>.<br>\n",
    "Wanneer je dat hebt gedaan kan je de waarde weer op <font color=\"green\">__False__</font> zetten, omdat je dit maar 1 keer hoeft te doen."
   ]
  },
  {
   "cell_type": "markdown",
   "metadata": {},
   "source": [
    "### <font color='brown'>1.0 installeren van de benodigde bibliotheken</font>"
   ]
  },
  {
   "cell_type": "code",
   "execution_count": null,
   "metadata": {},
   "outputs": [],
   "source": [
    "install = False\n",
    "\n",
    "if install == False : None\n",
    "else : \n",
    "    !pip install numpy\n",
    "    !pip install matplotlib\n",
    "    !pip install pandas\n",
    "    !pip install xml.etree.ElementTree"
   ]
  },
  {
   "cell_type": "markdown",
   "metadata": {},
   "source": [
    "### <font color='brown'>1.1 Notebook settings</font>\n",
    "__instellingen voor gebruik van deze jupyter notebook__<br>\n",
    "deze instellingen zorgen ervoor dat de notebook het hele scherm vult en dat er grafieken getoond kunnen worden."
   ]
  },
  {
   "cell_type": "code",
   "execution_count": null,
   "metadata": {
    "slideshow": {
     "slide_type": "subslide"
    }
   },
   "outputs": [],
   "source": [
    "from IPython.core.display import display, HTML\n",
    "display(HTML(\"<style>.container { width:100% !important; }</style>\"))\n",
    "\n",
    "%matplotlib inline\n",
    "\n",
    "from IPython.core.interactiveshell import InteractiveShell\n",
    "InteractiveShell.ast_node_interactivity = \"all\""
   ]
  },
  {
   "cell_type": "markdown",
   "metadata": {
    "slideshow": {
     "slide_type": "subslide"
    }
   },
   "source": [
    "### <font color='brown'>1.2 Importeren van bibliotheken</font>\n",
    "deze instellingen zorgen ervoor dat de notebook het hele scherm vult en dat er grafieken getoond kunnen worden. "
   ]
  },
  {
   "cell_type": "code",
   "execution_count": null,
   "metadata": {
    "slideshow": {
     "slide_type": "subslide"
    }
   },
   "outputs": [],
   "source": [
    "\n",
    "import sys, os\n",
    "import pandas as pd\n",
    "import numpy as np\n",
    "import xml.etree.ElementTree as ET\n",
    "\n",
    "from datetime import datetime"
   ]
  },
  {
   "cell_type": "markdown",
   "metadata": {},
   "source": [
    "***\n",
    "# 2. Functies\n",
    "__functies voor importeren van diverse lagen in de auditfile__ <br><br>\n",
    "De functies die hieronder zijn geschreven zijn gemaakt om de meerder lagen van de auditfile door te lezen.<br>\n",
    "Functies moeten altijd bovenaan het script worden gezet, omdat je deze later gaat aanroepen.<br>\n",
    "Het echte script begint dus pas in __hoofdstuk 3__. let op dat je het onderstaande script runt tot hoofdstuk 3."
   ]
  },
  {
   "cell_type": "markdown",
   "metadata": {
    "slideshow": {
     "slide_type": "slide"
    }
   },
   "source": [
    "### <font color='brown'>2.1 Functies voor het parsen van data</font>"
   ]
  },
  {
   "cell_type": "code",
   "execution_count": null,
   "metadata": {
    "slideshow": {
     "slide_type": "fragment"
    }
   },
   "outputs": [],
   "source": [
    "def parse_info(root):\n",
    "   \n",
    "    recordcontent = dict()\n",
    "    \n",
    "    for child in root:\n",
    "        columnname = child.tag.replace(ns,'')\n",
    "        columnvalue = child.text\n",
    "        \n",
    "        if len(child) == 0:\n",
    "            recordcontent[columnname] = columnvalue     \n",
    "            \n",
    "        else: continue\n",
    "            \n",
    "    return recordcontent  "
   ]
  },
  {
   "cell_type": "code",
   "execution_count": null,
   "metadata": {
    "slideshow": {
     "slide_type": "fragment"
    }
   },
   "outputs": [],
   "source": [
    "def stamtabellen(root) :    \n",
    "    \n",
    "    currentrow = 0\n",
    "    records = dict()\n",
    "\n",
    "    for child in root:\n",
    "\n",
    "        module = child.tag.replace(ns,'')\n",
    "        recordcontent = dict()\n",
    "\n",
    "        for subchild in child:\n",
    "\n",
    "            if len(subchild) != 0:\n",
    "                for subsubchild in subchild:\n",
    "                    columnvalue = subsubchild.text\n",
    "                    columnname = subsubchild.tag.replace(ns,'')\n",
    "                    recordcontent[columnname] = columnvalue\n",
    "\n",
    "                    if len(subsubchild) != 0: print('let op! nog een sublaag gevonden')\n",
    "            else:\n",
    "                columnvalue =subchild.text\n",
    "                columnname = subchild.tag.replace(ns,'')\n",
    "                recordcontent[columnname] = columnvalue\n",
    "\n",
    "        records[currentrow] = recordcontent\n",
    "        currentrow +=1\n",
    "\n",
    "    df = pd.DataFrame(records).transpose()\n",
    "    return df"
   ]
  },
  {
   "cell_type": "code",
   "execution_count": null,
   "metadata": {
    "slideshow": {
     "slide_type": "fragment"
    }
   },
   "outputs": [],
   "source": [
    "def tags_in_module(modules):\n",
    "    tag = dict()\n",
    "    \n",
    "    for submodule in modules:\n",
    "        tagname = submodule.tag.replace(ns,'')\n",
    "        tag[tagname] = tag.get(tagname, 0) + 1\n",
    "    return tag"
   ]
  },
  {
   "cell_type": "markdown",
   "metadata": {
    "slideshow": {
     "slide_type": "slide"
    }
   },
   "source": [
    "### <font color='brown'>2.2 Functies voor het converteren van data</font>"
   ]
  },
  {
   "cell_type": "code",
   "execution_count": null,
   "metadata": {},
   "outputs": [],
   "source": [
    "def accounttype(dataframe):\n",
    "\n",
    "    conditions = [\n",
    "        (dataframe['accTp'] == 'P'),\n",
    "        (dataframe['accTp'] == 'B')]\n",
    "\n",
    "    choices = ['Winst & verlies','Balans']\n",
    "\n",
    "    dataframe['accounttype'] = np.select(conditions, choices, default= 'onbekende balanstype' + dataframe['accTp'] )\n"
   ]
  },
  {
   "cell_type": "code",
   "execution_count": null,
   "metadata": {
    "slideshow": {
     "slide_type": "fragment"
    }
   },
   "outputs": [],
   "source": [
    "def journaltype(dataframe):\n",
    "\n",
    "    conditions = [\n",
    "        (dataframe['jrnTp'] == 'Z'),\n",
    "        (dataframe['jrnTp'] == 'B'),\n",
    "        (dataframe['jrnTp'] == 'P'),\n",
    "        (dataframe['jrnTp'] == 'O'),\n",
    "        (dataframe['jrnTp'] == 'C'),\n",
    "        (dataframe['jrnTp'] == 'M'),\n",
    "        (dataframe['jrnTp'] == 'Y'),\n",
    "        (dataframe['jrnTp'] == 'S')]\n",
    "\n",
    "    choices = ['memoriaal', 'bankboek' , 'inkoopboek' , 'open/sluit balans', 'kasboek', 'memoriaal', 'salaris', 'verkoopboek']\n",
    "\n",
    "    dataframe['journaltype'] = np.select(conditions, choices, default= 'onbekend dagboek' )"
   ]
  },
  {
   "cell_type": "code",
   "execution_count": null,
   "metadata": {
    "slideshow": {
     "slide_type": "fragment"
    }
   },
   "outputs": [],
   "source": [
    "def vat_amount(dataframe):\n",
    "\n",
    "    vat_amount_raw = dataframe['vatAmnt'].astype(float)\n",
    "    \n",
    "    conditions = [\n",
    "        (dataframe['vatAmntTp'] == 'C'),\n",
    "        (dataframe['vatAmntTp'] == 'D')]\n",
    "\n",
    "    choices = [-1,1]\n",
    "\n",
    "    dataframe['vat_amount'] = np.select(conditions, choices, default= 1 ) * vat_amount_raw\n"
   ]
  },
  {
   "cell_type": "code",
   "execution_count": null,
   "metadata": {
    "slideshow": {
     "slide_type": "fragment"
    }
   },
   "outputs": [],
   "source": [
    "def amount(dataframe):\n",
    "\n",
    "    amount_raw = dataframe['amnt'].astype(float)\n",
    "    \n",
    "    conditions = [\n",
    "        (dataframe['amntTp'] == 'C'),\n",
    "        (dataframe['amntTp'] == 'D')]\n",
    "\n",
    "    choices = [-1,1]\n",
    "\n",
    "    dataframe['amount'] = np.select(conditions, choices, default= 1 ) * amount_raw\n"
   ]
  },
  {
   "cell_type": "markdown",
   "metadata": {
    "slideshow": {
     "slide_type": "slide"
    }
   },
   "source": [
    "***\n",
    "# 3. Importeren van de auditfile\n",
    "_starten met importeren van de auditfile data_"
   ]
  },
  {
   "cell_type": "markdown",
   "metadata": {
    "slideshow": {
     "slide_type": "subslide"
    }
   },
   "source": [
    "### <font color='brown'>3.1 lees de auditfile in met de xml parser</font>"
   ]
  },
  {
   "cell_type": "markdown",
   "metadata": {},
   "source": [
    "__lees het xml bestand in__<br>\n",
    "wanneer er meer dan 1 audifile instaat wordt de eerste auditfile in de lijst gekozen.<br>\n"
   ]
  },
  {
   "cell_type": "code",
   "execution_count": null,
   "metadata": {
    "scrolled": false
   },
   "outputs": [],
   "source": [
    "filename = 'workbook name'\n",
    "filename"
   ]
  },
  {
   "cell_type": "code",
   "execution_count": null,
   "metadata": {},
   "outputs": [],
   "source": []
  },
  {
   "cell_type": "code",
   "execution_count": null,
   "metadata": {
    "slideshow": {
     "slide_type": "subslide"
    }
   },
   "outputs": [],
   "source": [
    "tree = ET.parse(vinputdir + '/' + filename)\n",
    "root = tree.getroot()\n",
    "namespaces = {'xsd':\"http://www.w3.org/2001/XMLSchema\", 'xsi':\"http://www.w3.org/2001/XMLSchema-instance\" }\n"
   ]
  },
  {
   "cell_type": "markdown",
   "metadata": {},
   "source": [
    "_stel namespace vast_"
   ]
  },
  {
   "cell_type": "code",
   "execution_count": null,
   "metadata": {
    "slideshow": {
     "slide_type": "subslide"
    }
   },
   "outputs": [],
   "source": [
    "\n",
    "ns_raw =  root.tag.split('{')[1].split('}')[0]\n",
    "ns = '{'+ ns_raw + '}'\n",
    "namespaces['af'] = ns_raw\n"
   ]
  },
  {
   "cell_type": "markdown",
   "metadata": {
    "slideshow": {
     "slide_type": "slide"
    }
   },
   "source": [
    "### <font color='brown'>3.2 Maak onderscheid tussen header en company subledgers</font>"
   ]
  },
  {
   "cell_type": "markdown",
   "metadata": {
    "slideshow": {
     "slide_type": "subslide"
    }
   },
   "source": [
    "_splitst de auditfile op in 3 blokken._\n",
    "> - header\n",
    "> - company\n",
    "> - transactions"
   ]
  },
  {
   "cell_type": "code",
   "execution_count": null,
   "metadata": {
    "slideshow": {
     "slide_type": "subslide"
    }
   },
   "outputs": [],
   "source": [
    "header    = root.find('af:header',namespaces)\n",
    "company   = root.find('af:company', namespaces)\n",
    "transactions = root.find('af:company/af:transactions', namespaces)"
   ]
  },
  {
   "cell_type": "markdown",
   "metadata": {},
   "source": [
    "_leest de eerste laag van het xml niveau in. Dit kunnen we zijn als de metadata van de auditfile_"
   ]
  },
  {
   "cell_type": "code",
   "execution_count": null,
   "metadata": {
    "slideshow": {
     "slide_type": "skip"
    }
   },
   "outputs": [],
   "source": [
    "\n",
    "headerinfo = pd.DataFrame(parse_info(header), index = [0])\n",
    "companyinfo = pd.DataFrame(parse_info(company), index = [0])\n",
    "transactioninfo = pd.DataFrame(parse_info(transactions), index = [0])\n",
    "af_info = pd.concat([headerinfo, companyinfo, transactioninfo], axis = 1)\n",
    "\n",
    "af_info"
   ]
  },
  {
   "cell_type": "markdown",
   "metadata": {},
   "source": [
    "### <font color='brown'>3.3 Parsen van data van de stamtabellen</font>"
   ]
  },
  {
   "cell_type": "markdown",
   "metadata": {},
   "source": [
    "_aanmaken van de volgende subtabellen:_\n",
    "> - periods <br>\n",
    "> - customer suppliers <br>\n",
    "> - vatcodes <br>\n",
    "> - generalLedger <br>\n",
    "> - basics<br>"
   ]
  },
  {
   "cell_type": "code",
   "execution_count": null,
   "metadata": {
    "slideshow": {
     "slide_type": "subslide"
    }
   },
   "outputs": [],
   "source": [
    "periods = stamtabellen(company.findall('af:periods/af:period',namespaces))\n",
    "custsup = stamtabellen(company.findall('af:customersSuppliers/af:customerSupplier',namespaces))\n",
    "vatcode = stamtabellen(company.findall('af:vatCodes/af:vatCode',namespaces))\n",
    "genledg  = stamtabellen(company.findall('af:generalLedger/af:ledgerAccount',namespaces))\n",
    "basics  = stamtabellen(company.findall('af:generalLedger/af:basics',namespaces))"
   ]
  },
  {
   "cell_type": "code",
   "execution_count": null,
   "metadata": {},
   "outputs": [],
   "source": []
  },
  {
   "cell_type": "code",
   "execution_count": null,
   "metadata": {},
   "outputs": [],
   "source": [
    "basics.head()\n",
    "genledg.head()\n",
    "vatcode.head()\n",
    "periods.head()\n",
    "custsup.head()"
   ]
  },
  {
   "cell_type": "markdown",
   "metadata": {
    "slideshow": {
     "slide_type": "subslide"
    }
   },
   "source": [
    "### <font color='brown'>3.4 Parsen van data van de journals</font>"
   ]
  },
  {
   "cell_type": "code",
   "execution_count": null,
   "metadata": {},
   "outputs": [],
   "source": [
    "journals = company.findall('af:transactions/af:journal', namespaces)\n",
    "journal_df = pd.DataFrame()\n",
    "\n",
    "for journal in journals:\n",
    "    jrninfo = dict()\n",
    "    \n",
    "    for records in journal:\n",
    "        if len(records) == 0:\n",
    "            columnnames = records.tag.replace(ns,'')\n",
    "            columnvalues = records.text\n",
    "            jrninfo[columnnames] = columnvalues\n",
    "    journal_df = journal_df.append(jrninfo, ignore_index = True)"
   ]
  },
  {
   "cell_type": "code",
   "execution_count": null,
   "metadata": {},
   "outputs": [],
   "source": [
    "journal_df"
   ]
  },
  {
   "cell_type": "markdown",
   "metadata": {
    "slideshow": {
     "slide_type": "subslide"
    }
   },
   "source": [
    "### <font color='brown'>3.5 Parsen van de transactions in de journals</font>\n",
    "In de journals zitten meerdere transactions. we willen van alle journals alle transactions hebben:\n",
    "> journal 1 <br>\n",
    "> journal 2 <br>\n",
    "> journal 3 <br>\n",
    ">> transaction 1 <br>\n",
    ">> transaction 2 <br>\n",
    ">> transaction 3 <br>\n",
    ">>> transactionline 1  <font color='green'>kolomnamen, kolomnwaardes</font> <br>\n",
    ">>> transactionline 2  <font color='green'>kolomnamen, kolomnwaardes</font> <br>\n",
    ">>> transactionline 3  <font color='green'>kolomnamen, kolomnwaardes</font> <br>\n"
   ]
  },
  {
   "cell_type": "code",
   "execution_count": null,
   "metadata": {
    "slideshow": {
     "slide_type": "subslide"
    }
   },
   "outputs": [],
   "source": [
    "transactions_df = pd.DataFrame()\n",
    "\n",
    "total_records = list()\n",
    "record_dict = dict()\n",
    "\n",
    "for journal in journals:\n",
    "\n",
    "    \n",
    "    for records in journal:\n",
    "        \n",
    "        if len(records) == 0:\n",
    "            columnnames = records.tag.replace(ns,'')\n",
    "            columnvalues = records.text\n",
    "            record_dict[columnnames] = columnvalues\n",
    "\n",
    "        else:\n",
    "            for record in records:\n",
    "                if len(record) == 0:\n",
    "                    columnnames = record.tag.replace(ns,'')\n",
    "                    columnvalues = record.text\n",
    "                    record_dict[columnnames] = columnvalues\n",
    "\n",
    "                else:\n",
    "\n",
    "                    for subfields in record:\n",
    "                        if len(subfields) == 0:\n",
    "                            columnnames = subfields.tag.replace(ns,'')\n",
    "                            columnvalues = subfields.text\n",
    "                            record_dict[columnnames] = columnvalues\n",
    "\n",
    "                        else: \n",
    "\n",
    "                            for subfields_1 in subfields:\n",
    "                                if len(subfields_1) == 0:\n",
    "                                    columnnames = subfields_1.tag.replace(ns,'')\n",
    "                                    columnvalues = subfields_1.text\n",
    "                                    record_dict[columnnames] = columnvalues\n",
    "                                else : print('nog een sublaag!')\n",
    "\n",
    "                    \n",
    "                    total_records.append(record_dict.copy())\n",
    "\n",
    "transactions_df = transactions_df.append(total_records, ignore_index = True)\n"
   ]
  },
  {
   "cell_type": "code",
   "execution_count": null,
   "metadata": {},
   "outputs": [],
   "source": [
    "# transactions_df.head()\n",
    "# transactions_df.describe()\n",
    "# transactions_df.dtypes"
   ]
  },
  {
   "cell_type": "markdown",
   "metadata": {
    "slideshow": {
     "slide_type": "slide"
    }
   },
   "source": [
    "***\n",
    "# 4. Auditfile preppen"
   ]
  },
  {
   "cell_type": "markdown",
   "metadata": {
    "slideshow": {
     "slide_type": "subslide"
    }
   },
   "source": [
    "### <font color='brown'>4.1 Journals voorzien van dagboektype</font>\n",
    "_classificeer dagboektype van de journals dataframe_"
   ]
  },
  {
   "cell_type": "code",
   "execution_count": null,
   "metadata": {},
   "outputs": [],
   "source": [
    "journaltype(journal_df)\n",
    "journal_df = journal_df.drop(['jrnTp'] , axis = 1)"
   ]
  },
  {
   "cell_type": "markdown",
   "metadata": {},
   "source": [
    "### <font color='brown'>4.2 accounttype toevoegen aan general ledger</font>\n"
   ]
  },
  {
   "cell_type": "code",
   "execution_count": null,
   "metadata": {},
   "outputs": [],
   "source": [
    "accounttype(genledg)"
   ]
  },
  {
   "cell_type": "markdown",
   "metadata": {},
   "source": [
    "### <font color='brown'>4.3 Transacties het juiste dataformat geven</font>\n",
    "_aanmaken van nieuwe velden en aanpassen van datatypes_"
   ]
  },
  {
   "cell_type": "code",
   "execution_count": null,
   "metadata": {
    "scrolled": true
   },
   "outputs": [],
   "source": [
    "tr = transactions_df\n",
    "\n",
    "amount(transactions_df)\n",
    "tr['effDate'] = pd.to_datetime(transactions_df['effDate'])\n",
    "tr['trDt'] = pd.to_datetime(transactions_df['trDt'])\n",
    "\n",
    "if 'vatAmnt' in tr.columns:\n",
    "    vat_amount(transactions_df)\n",
    "    tr = tr.drop(['amnt', 'amntTp', 'vatAmnt', 'vatAmntTp'], axis=1)\n",
    "else:\n",
    "    print('geen vat amount!')\n"
   ]
  },
  {
   "cell_type": "markdown",
   "metadata": {},
   "source": [
    "_verwijder kolommen die we niet meer nodig hebben:_"
   ]
  },
  {
   "cell_type": "markdown",
   "metadata": {
    "slideshow": {
     "slide_type": "slide"
    }
   },
   "source": [
    "### <font color='brown'>4.3 Tabellen aan elkaar koppelen</font>\n",
    "_De volgende stamtabellen worden aan elkaar gelinkt op unieke ID_\n",
    "   1. periods\n",
    "   2. vatcodes\n",
    "   3. customers suppliers\n",
    "   4. general ledger\n",
    "   5. journalinfo\n",
    "   6. auditfile info\n",
    "   "
   ]
  },
  {
   "cell_type": "code",
   "execution_count": null,
   "metadata": {
    "scrolled": true,
    "slideshow": {
     "slide_type": "slide"
    }
   },
   "outputs": [],
   "source": [
    "print('length before joins:'.ljust(40), str(len(tr)).ljust(10), 'number of columns:', len(tr.columns), '\\n')\n",
    "\n",
    "# join met periods\n",
    "\n",
    "temp_1 = pd.merge(tr, periods, on ='periodNumber', how='left')\n",
    "print('length after join periods:'.ljust(40), str(len(temp_1)).ljust(10), 'number of columns:', len(temp_1.columns))\n",
    "\n",
    "# join met vatcodes\n",
    "\n",
    "temp_2 = pd.merge(temp_1, vatcode, on='vatID', how='left')\n",
    "print('length after join vatcodes:'.ljust(40), str(len(temp_2)).ljust(10), 'number of columns:', len(temp_2.columns))\n",
    "\n",
    "# join met customersuppliers\n",
    "\n",
    "temp_3 = pd.merge(temp_2, custsup.add_prefix('cs_'), left_on='custSupID' , right_on = 'cs_custSupID', how='left')\n",
    "print('length after join customersuppliers:'.ljust(40), str(len(temp_3)).ljust(10), 'number of columns:', len(temp_3.columns))\n",
    "\n",
    "# join met generalLedger\n",
    "\n",
    "temp_4 = pd.merge(temp_3, genledg, on='accID' , how='left')\n",
    "print('length after join generalledger:'.ljust(40), str(len(temp_4)).ljust(10), 'number of columns:', len(temp_4.columns))\n",
    "\n",
    "\n",
    "# join met journalinfo\n",
    "\n",
    "temp_5= pd.merge(temp_4, journal_df.add_prefix('jrn_'),left_on = 'jrnID', right_on='jrn_jrnID' , how='left')\n",
    "print('length after join journal:'.ljust(40), str(len(temp_5)).ljust(10), 'number of columns:', len(temp_5.columns))\n",
    "\n",
    "# join met auditfile info\n",
    "\n",
    "# temp_6= pd.merge(temp_5, af_info.add_prefix('info_'), on = None ,how='inner')\n",
    "# print('length after join journal:'.ljust(40), str(len(temp_6)).ljust(10), 'number of columns:', len(temp_6.columns))\n",
    "\n",
    "\n",
    "auditfile = temp_5\n"
   ]
  },
  {
   "cell_type": "code",
   "execution_count": null,
   "metadata": {
    "scrolled": false
   },
   "outputs": [],
   "source": [
    "af_info\n",
    "\n",
    "#af_info_formatted = "
   ]
  },
  {
   "cell_type": "code",
   "execution_count": null,
   "metadata": {},
   "outputs": [],
   "source": [
    "af_info.iloc[0][\"dateCreated\"]"
   ]
  },
  {
   "cell_type": "code",
   "execution_count": null,
   "metadata": {},
   "outputs": [],
   "source": [
    "header.parse_records()"
   ]
  },
  {
   "cell_type": "code",
   "execution_count": null,
   "metadata": {},
   "outputs": [],
   "source": [
    "columnnames"
   ]
  },
  {
   "cell_type": "code",
   "execution_count": null,
   "metadata": {
    "scrolled": true
   },
   "outputs": [],
   "source": [
    "columnnames = list(af_info)\n",
    "number_of_columns = len(columnnames)\n",
    "for column_name in columnnames:\n",
    "    auditfile[column_name] = af_info.iloc[0][column_name]\n",
    "    \n",
    "    \n",
    "auditfile.head()\n"
   ]
  },
  {
   "cell_type": "markdown",
   "metadata": {
    "slideshow": {
     "slide_type": "slide"
    }
   },
   "source": [
    "***\n",
    "# 5. Auditfile exporteren"
   ]
  },
  {
   "cell_type": "code",
   "execution_count": null,
   "metadata": {
    "slideshow": {
     "slide_type": "subslide"
    }
   },
   "outputs": [],
   "source": [
    "writer = pd.ExcelWriter(vinputdir +'/auditfile.xlsx')\n",
    "auditfile.to_excel(writer, 'export_af')\n",
    "writer.save()"
   ]
  },
  {
   "cell_type": "code",
   "execution_count": null,
   "metadata": {},
   "outputs": [],
   "source": [
    "len(auditfile)"
   ]
  },
  {
   "cell_type": "code",
   "execution_count": null,
   "metadata": {},
   "outputs": [],
   "source": []
  }
 ],
 "metadata": {
  "kernelspec": {
   "display_name": "Python 3",
   "language": "python",
   "name": "python3"
  },
  "language_info": {
   "codemirror_mode": {
    "name": "ipython",
    "version": 3
   },
   "file_extension": ".py",
   "mimetype": "text/x-python",
   "name": "python",
   "nbconvert_exporter": "python",
   "pygments_lexer": "ipython3",
   "version": "3.6.4"
  }
 },
 "nbformat": 4,
 "nbformat_minor": 2
}
